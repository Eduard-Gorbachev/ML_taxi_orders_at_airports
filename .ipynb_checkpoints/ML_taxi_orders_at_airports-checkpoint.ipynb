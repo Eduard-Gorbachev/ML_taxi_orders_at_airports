{
 "cells": [
  {
   "cell_type": "markdown",
   "metadata": {
    "toc": true
   },
   "source": [
    "<h1>Содержание<span class=\"tocSkip\"></span></h1>\n",
    "<div class=\"toc\"><ul class=\"toc-item\"><li><span><a href=\"#Подготовка\" data-toc-modified-id=\"Подготовка-1\"><span class=\"toc-item-num\">1&nbsp;&nbsp;</span>Подготовка</a></span></li><li><span><a href=\"#Анализ\" data-toc-modified-id=\"Анализ-2\"><span class=\"toc-item-num\">2&nbsp;&nbsp;</span>Анализ</a></span></li><li><span><a href=\"#Обучение\" data-toc-modified-id=\"Обучение-3\"><span class=\"toc-item-num\">3&nbsp;&nbsp;</span>Обучение</a></span><ul class=\"toc-item\"><li><span><a href=\"#Создание-признаков-и-выборок-для-моделей\" data-toc-modified-id=\"Создание-признаков-и-выборок-для-моделей-3.1\"><span class=\"toc-item-num\">3.1&nbsp;&nbsp;</span>Создание признаков и выборок для моделей</a></span></li><li><span><a href=\"#Обучение-моделей\" data-toc-modified-id=\"Обучение-моделей-3.2\"><span class=\"toc-item-num\">3.2&nbsp;&nbsp;</span>Обучение моделей</a></span><ul class=\"toc-item\"><li><span><a href=\"#Обучим-константную-модель--DummyRegressor\" data-toc-modified-id=\"Обучим-константную-модель--DummyRegressor-3.2.1\"><span class=\"toc-item-num\">3.2.1&nbsp;&nbsp;</span>Обучим константную модель  <code>DummyRegressor</code></a></span></li><li><span><a href=\"#Обучим-модель-линейной-регрессии-LinearRegression\" data-toc-modified-id=\"Обучим-модель-линейной-регрессии-LinearRegression-3.2.2\"><span class=\"toc-item-num\">3.2.2&nbsp;&nbsp;</span>Обучим модель линейной регрессии <code>LinearRegression</code></a></span></li><li><span><a href=\"#Обучим-модель-градиентного-бустинга-LGBMRegressor()\" data-toc-modified-id=\"Обучим-модель-градиентного-бустинга-LGBMRegressor()-3.2.3\"><span class=\"toc-item-num\">3.2.3&nbsp;&nbsp;</span>Обучим модель градиентного бустинга <code>LGBMRegressor()</code></a></span></li><li><span><a href=\"#Обучим-модель-градиентного-бустинга-CatBoostRegressor()\" data-toc-modified-id=\"Обучим-модель-градиентного-бустинга-CatBoostRegressor()-3.2.4\"><span class=\"toc-item-num\">3.2.4&nbsp;&nbsp;</span>Обучим модель градиентного бустинга <code>CatBoostRegressor()</code></a></span></li></ul></li></ul></li><li><span><a href=\"#Тестирование\" data-toc-modified-id=\"Тестирование-4\"><span class=\"toc-item-num\">4&nbsp;&nbsp;</span>Тестирование</a></span><ul class=\"toc-item\"><li><span><a href=\"#Итоговый-вывод:\" data-toc-modified-id=\"Итоговый-вывод:-4.1\"><span class=\"toc-item-num\">4.1&nbsp;&nbsp;</span>Итоговый вывод:</a></span></li></ul></li><li><span><a href=\"#Чек-лист-проверки\" data-toc-modified-id=\"Чек-лист-проверки-5\"><span class=\"toc-item-num\">5&nbsp;&nbsp;</span>Чек-лист проверки</a></span></li></ul></div>"
   ]
  },
  {
   "cell_type": "markdown",
   "metadata": {},
   "source": [
    "#  Прогнозирование заказов такси"
   ]
  },
  {
   "cell_type": "markdown",
   "metadata": {},
   "source": [
    "Компания «Такси» собрала исторические данные о заказах такси в аэропортах. Чтобы привлекать больше водителей в период пиковой нагрузки, нужно спрогнозировать количество заказов такси на следующий час. Необходимо построить модель для такого предсказания.\n",
    "\n",
    "Значение метрики *RMSE* на тестовой выборке должно быть не больше 48.\n",
    "\n",
    "Ход исследования:\n",
    "\n",
    "1. Загрузить данные и выполнить их ресемплирование по одному часу.\n",
    "2. Проанализировать данные.\n",
    "3. Обучить разные модели с различными гиперпараметрами. Сделать тестовую выборку размером 10% от исходных данных.\n",
    "4. Проверить данные на тестовой выборке и сделать выводы.\n",
    "\n",
    "\n",
    "Данные лежат в файле `taxi.csv`. Количество заказов находится в столбце `num_orders` (от англ. *number of orders*, «число заказов»)."
   ]
  },
  {
   "cell_type": "markdown",
   "metadata": {},
   "source": [
    "## Подготовка"
   ]
  },
  {
   "cell_type": "markdown",
   "metadata": {},
   "source": [
    "Произведем загрузку необходимых библиотек, классов, функции. "
   ]
  },
  {
   "cell_type": "code",
   "execution_count": 1,
   "metadata": {},
   "outputs": [],
   "source": [
    "# Установим библиотеки:\n",
    "\n",
    "# установим библиотеку lightgbm\n",
    "!pip install lightgbm -q\n",
    "\n",
    "# установим актуальную версию библиотеки sklearn\n",
    "!pip install -U scikit-learn -q\n",
    "\n",
    "# установим catboost\n",
    "!pip install catboost -q"
   ]
  },
  {
   "cell_type": "code",
   "execution_count": 2,
   "metadata": {},
   "outputs": [],
   "source": [
    "# Импортируем библиотеку pandas для работы с датафреймом\n",
    "import pandas as pd\n",
    "\n",
    "# Импортируем модуль pyplot библиотеки matplotlib для построения графиков\n",
    "import matplotlib.pyplot as plt\n",
    "\n",
    "# Импортируем библиотеку seaborn для построения графиков\n",
    "import seaborn as sns\n",
    "\n",
    "# Импортируем библиотеку numpy  для математических операций \n",
    "import numpy as np\n",
    "\n",
    "# Импортируем класс pipeline для работы с пайплайнами\n",
    "from sklearn.pipeline import Pipeline\n",
    "\n",
    "# Импортируем класс ColumnTransformer для работы с данными разного типа в одном наборе\n",
    "from sklearn.compose import ColumnTransformer\n",
    "\n",
    "# Импортируем библиотеку lightgbm для модели LightGBM\n",
    "import lightgbm as lgb\n",
    "\n",
    "# Импортируем функцию seasonal_decompose() для разложения временного рядя на тренд, сезонность и остатки\n",
    "from statsmodels.tsa.seasonal import seasonal_decompose\n",
    "\n",
    "# Импортируем функцию train_test_split для разделения данных\n",
    "from sklearn.model_selection import train_test_split\n",
    "\n",
    "# Импортируем: \n",
    "# класс StandardScaler для стандартизации данных\n",
    "# класс OneHotEncoder для кодирования данных\n",
    "from sklearn.preprocessing import StandardScaler, OneHotEncoder\n",
    "\n",
    "# Импортируем класс GridSearchCV \n",
    "# Импортируем объект TimeSeriesSplit\n",
    "# Импортируем функцию cross_val_score\n",
    "from sklearn.model_selection import GridSearchCV, TimeSeriesSplit, cross_val_score\n",
    "\n",
    "# Импортируем:\n",
    "# класс LinearRegression для линейной регрессии\n",
    "# класс DummyClassifier константная модель\n",
    "# класс CatBoostRegressor для градиентного регрессии бустинга\n",
    "from sklearn.linear_model import LinearRegression \n",
    "from sklearn.dummy import DummyRegressor\n",
    "from catboost import CatBoostRegressor\n",
    "\n",
    "\n",
    "# Импортируем метрики\n",
    "from sklearn.metrics import root_mean_squared_error\n",
    "\n",
    "import warnings\n",
    "warnings.filterwarnings('ignore')"
   ]
  },
  {
   "cell_type": "markdown",
   "metadata": {},
   "source": [
    "Загрузим данные в датафрейм `pandas`."
   ]
  },
  {
   "cell_type": "code",
   "execution_count": 3,
   "metadata": {},
   "outputs": [],
   "source": [
    "# Поместим датасет в переменную taxi\n",
    "# Столбец datetime переведем в формат datetime64 и сделаем индексным\n",
    "taxi = pd.read_csv('/Users/eduardgorbacev/Documents/GitHub/ML_taxi_orders_at_airports/taxi.csv', parse_dates=[0], index_col=[0])"
   ]
  },
  {
   "cell_type": "code",
   "execution_count": 4,
   "metadata": {},
   "outputs": [
    {
     "name": "stdout",
     "output_type": "stream",
     "text": [
      "<class 'pandas.core.frame.DataFrame'>\n",
      "DatetimeIndex: 26496 entries, 2018-03-01 00:00:00 to 2018-08-31 23:50:00\n",
      "Data columns (total 1 columns):\n",
      " #   Column      Non-Null Count  Dtype\n",
      "---  ------      --------------  -----\n",
      " 0   num_orders  26496 non-null  int64\n",
      "dtypes: int64(1)\n",
      "memory usage: 414.0 KB\n"
     ]
    },
    {
     "data": {
      "text/html": [
       "<div>\n",
       "<style scoped>\n",
       "    .dataframe tbody tr th:only-of-type {\n",
       "        vertical-align: middle;\n",
       "    }\n",
       "\n",
       "    .dataframe tbody tr th {\n",
       "        vertical-align: top;\n",
       "    }\n",
       "\n",
       "    .dataframe thead th {\n",
       "        text-align: right;\n",
       "    }\n",
       "</style>\n",
       "<table border=\"1\" class=\"dataframe\">\n",
       "  <thead>\n",
       "    <tr style=\"text-align: right;\">\n",
       "      <th></th>\n",
       "      <th>num_orders</th>\n",
       "    </tr>\n",
       "    <tr>\n",
       "      <th>datetime</th>\n",
       "      <th></th>\n",
       "    </tr>\n",
       "  </thead>\n",
       "  <tbody>\n",
       "    <tr>\n",
       "      <th>2018-03-01 00:00:00</th>\n",
       "      <td>9</td>\n",
       "    </tr>\n",
       "    <tr>\n",
       "      <th>2018-03-01 00:10:00</th>\n",
       "      <td>14</td>\n",
       "    </tr>\n",
       "    <tr>\n",
       "      <th>2018-03-01 00:20:00</th>\n",
       "      <td>28</td>\n",
       "    </tr>\n",
       "  </tbody>\n",
       "</table>\n",
       "</div>"
      ],
      "text/plain": [
       "                     num_orders\n",
       "datetime                       \n",
       "2018-03-01 00:00:00           9\n",
       "2018-03-01 00:10:00          14\n",
       "2018-03-01 00:20:00          28"
      ]
     },
     "execution_count": 4,
     "metadata": {},
     "output_type": "execute_result"
    }
   ],
   "source": [
    "# Выведем информацию о датасете\n",
    "taxi.info()\n",
    "\n",
    "taxi.head(3)"
   ]
  },
  {
   "cell_type": "markdown",
   "metadata": {},
   "source": [
    "Итак, мы имеем датасет с индексным столбцом, в котором расположены даты и время, а так же столбец `num_orders` - количество заказов, это наш **целевой признак**. В датасете представлены данные о кол-ве заказов с 01 марта 2018 по 31 августа 2018 года с интервалом 10 минут. В задаче необходимо спрогнозировать количество заказов такси на следующий час, поэтому проведем ресемплирование датасета и изменим интервал временного ряда в 1 час и отобразим сумму заказов за каждый час. Для начала проверим, расположены ли даты и время в хронологическом порядке."
   ]
  },
  {
   "cell_type": "code",
   "execution_count": 5,
   "metadata": {},
   "outputs": [
    {
     "data": {
      "text/plain": [
       "True"
      ]
     },
     "execution_count": 5,
     "metadata": {},
     "output_type": "execute_result"
    }
   ],
   "source": [
    "# Проверим, являются ли даты в индексном столбце монотонно возрастающими\n",
    "taxi.index.is_monotonic_increasing"
   ]
  },
  {
   "cell_type": "markdown",
   "metadata": {},
   "source": [
    "Итак, метод выдал результат True, что означает, что даты и время расположены в хронологическом порядке, что важно для задачи прогнозирования временного ряда."
   ]
  },
  {
   "cell_type": "code",
   "execution_count": 6,
   "metadata": {},
   "outputs": [],
   "source": [
    "# Применим метод resample() и функцию sum()\n",
    "taxi = taxi.resample('1H').sum()"
   ]
  },
  {
   "cell_type": "code",
   "execution_count": 7,
   "metadata": {},
   "outputs": [
    {
     "name": "stdout",
     "output_type": "stream",
     "text": [
      "<class 'pandas.core.frame.DataFrame'>\n",
      "DatetimeIndex: 4416 entries, 2018-03-01 00:00:00 to 2018-08-31 23:00:00\n",
      "Freq: h\n",
      "Data columns (total 1 columns):\n",
      " #   Column      Non-Null Count  Dtype\n",
      "---  ------      --------------  -----\n",
      " 0   num_orders  4416 non-null   int64\n",
      "dtypes: int64(1)\n",
      "memory usage: 69.0 KB\n"
     ]
    },
    {
     "data": {
      "text/html": [
       "<div>\n",
       "<style scoped>\n",
       "    .dataframe tbody tr th:only-of-type {\n",
       "        vertical-align: middle;\n",
       "    }\n",
       "\n",
       "    .dataframe tbody tr th {\n",
       "        vertical-align: top;\n",
       "    }\n",
       "\n",
       "    .dataframe thead th {\n",
       "        text-align: right;\n",
       "    }\n",
       "</style>\n",
       "<table border=\"1\" class=\"dataframe\">\n",
       "  <thead>\n",
       "    <tr style=\"text-align: right;\">\n",
       "      <th></th>\n",
       "      <th>num_orders</th>\n",
       "    </tr>\n",
       "    <tr>\n",
       "      <th>datetime</th>\n",
       "      <th></th>\n",
       "    </tr>\n",
       "  </thead>\n",
       "  <tbody>\n",
       "    <tr>\n",
       "      <th>2018-03-01 00:00:00</th>\n",
       "      <td>124</td>\n",
       "    </tr>\n",
       "    <tr>\n",
       "      <th>2018-03-01 01:00:00</th>\n",
       "      <td>85</td>\n",
       "    </tr>\n",
       "    <tr>\n",
       "      <th>2018-03-01 02:00:00</th>\n",
       "      <td>71</td>\n",
       "    </tr>\n",
       "  </tbody>\n",
       "</table>\n",
       "</div>"
      ],
      "text/plain": [
       "                     num_orders\n",
       "datetime                       \n",
       "2018-03-01 00:00:00         124\n",
       "2018-03-01 01:00:00          85\n",
       "2018-03-01 02:00:00          71"
      ]
     },
     "execution_count": 7,
     "metadata": {},
     "output_type": "execute_result"
    }
   ],
   "source": [
    "# Выведем информацию о датасете\n",
    "taxi.info()\n",
    "\n",
    "taxi.head(3)"
   ]
  },
  {
   "cell_type": "markdown",
   "metadata": {},
   "source": [
    "Итак, теперь мы имеем данные о заказах с интервалом в 1 час. Кол-во строк датасета сократилось с 26496 до 4416."
   ]
  },
  {
   "cell_type": "code",
   "execution_count": 8,
   "metadata": {},
   "outputs": [
    {
     "data": {
      "text/html": [
       "<style type=\"text/css\">\n",
       "#T_630f5_row0_col0 {\n",
       "  background-color: #3b4cc0;\n",
       "  color: #f1f1f1;\n",
       "}\n",
       "</style>\n",
       "<table id=\"T_630f5\">\n",
       "  <thead>\n",
       "    <tr>\n",
       "      <th class=\"blank level0\" >&nbsp;</th>\n",
       "      <th id=\"T_630f5_level0_col0\" class=\"col_heading level0 col0\" >0</th>\n",
       "    </tr>\n",
       "  </thead>\n",
       "  <tbody>\n",
       "    <tr>\n",
       "      <th id=\"T_630f5_level0_row0\" class=\"row_heading level0 row0\" >num_orders</th>\n",
       "      <td id=\"T_630f5_row0_col0\" class=\"data row0 col0\" >0</td>\n",
       "    </tr>\n",
       "  </tbody>\n",
       "</table>\n"
      ],
      "text/plain": [
       "<pandas.io.formats.style.Styler at 0x1084203b0>"
      ]
     },
     "execution_count": 8,
     "metadata": {},
     "output_type": "execute_result"
    }
   ],
   "source": [
    "# Проверим датасет на наличие пропусков\n",
    "pd.DataFrame(taxi.isna().sum()).style.background_gradient('coolwarm')"
   ]
  },
  {
   "cell_type": "markdown",
   "metadata": {},
   "source": [
    "Пропуски в датасете отсутствуют."
   ]
  },
  {
   "cell_type": "markdown",
   "metadata": {},
   "source": [
    "**Промежуточный итог:**\n",
    "\n",
    "- Столбец `datetime` привели к формату `datetime64` и сделали его индексным;\n",
    "- Столбец `num_orders` - количество заказов, это **целевой признак**;\n",
    "- Даты и время расположены в хронологическом порядке;\n",
    "- Провели ресемплирование датасета - установили интервал в 1 час;\n",
    "- Пропуски в датасете отсутствуют."
   ]
  },
  {
   "cell_type": "markdown",
   "metadata": {},
   "source": [
    "## Анализ"
   ]
  },
  {
   "cell_type": "markdown",
   "metadata": {},
   "source": [
    "Построим график и определим, стационарен ли временной рад нашего датасета или нет. Для наглядности добавим столбцы со скользящими средним и стандартным отклонением, размер окна возьмем равный 168 (посчитаем скользящие среднее и стандартное отклонение по неделям)."
   ]
  },
  {
   "cell_type": "code",
   "execution_count": 9,
   "metadata": {},
   "outputs": [],
   "source": [
    "# Добавим столбец со скользящим средним \n",
    "taxi['mean'] = taxi['num_orders'].rolling(168).mean()\n",
    "\n",
    "# Добавим столбец со скользящим стандартным отклонением \n",
    "taxi['std'] = taxi['num_orders'].rolling(168).std()"
   ]
  },
  {
   "cell_type": "code",
   "execution_count": 10,
   "metadata": {},
   "outputs": [
    {
     "data": {
      "image/png": "[encoded data removed]",
      "text/plain": [
       "<Figure size 1500x900 with 1 Axes>"
      ]
     },
     "metadata": {},
     "output_type": "display_data"
    }
   ],
   "source": [
    "# Построим график\n",
    "taxi.plot(figsize=(15,9), alpha=0.8)\n",
    "plt.title('График временного ряда', fontsize=18)\n",
    "plt.xlabel('Дата', fontsize=14)\n",
    "plt.ylabel('Кол-во заказов', fontsize=14)\n",
    "plt.show()"
   ]
  },
  {
   "cell_type": "markdown",
   "metadata": {},
   "source": [
    "Итак, на графике мы видим, что скользящее среднее увеличивается на протяжении всего графика. Стандартное отклонение практически равномерное, за исключением августа месяца - на графике мы видим небольшой рост стандартного отклонения. Из этого мы можем сделать вывод, что временной ряд нашего датасета нестационарный. Для модели мы добавим разности временного ряда, так как они более стационарны, чем сам ряд."
   ]
  },
  {
   "cell_type": "markdown",
   "metadata": {},
   "source": [
    "**Построим график тренда заказов.**"
   ]
  },
  {
   "cell_type": "code",
   "execution_count": 11,
   "metadata": {},
   "outputs": [],
   "source": [
    "# Применим функцию seasonal_decompose к датасету\n",
    "decomposed = seasonal_decompose(taxi['num_orders'])"
   ]
  },
  {
   "cell_type": "code",
   "execution_count": 12,
   "metadata": {},
   "outputs": [
    {
     "data": {
      "image/png": "[encoded data removed]",
      "text/plain": [
       "<Figure size 1500x900 with 1 Axes>"
      ]
     },
     "metadata": {},
     "output_type": "display_data"
    }
   ],
   "source": [
    "# Построим график тренда \n",
    "decomposed.trend.plot(figsize=(15,9))\n",
    "plt.title('Тренд кол-ва заказов такси в аэропортах', fontsize=18)\n",
    "plt.xlabel('Дата', fontsize=14)\n",
    "plt.ylabel('Кол-во заказов', fontsize=14)\n",
    "plt.show()"
   ]
  },
  {
   "cell_type": "markdown",
   "metadata": {},
   "source": [
    "Итак, на графике мы можем заметить тренд к плавному увеличению числа заказов такси в аэропортах. Особенно рост заметен с июля месяц по август, как правило на летние месяцы приходится большое кол-во людей, отправляющихся в отпуск, а у студентов и школьников начинаются каникулы. "
   ]
  },
  {
   "cell_type": "markdown",
   "metadata": {},
   "source": [
    "**Построим график сезонности.**"
   ]
  },
  {
   "cell_type": "code",
   "execution_count": 13,
   "metadata": {},
   "outputs": [
    {
     "data": {
      "image/png": "[encoded data removed]",
      "text/plain": [
       "<Figure size 1500x900 with 1 Axes>"
      ]
     },
     "metadata": {},
     "output_type": "display_data"
    }
   ],
   "source": [
    "# Построим график сезонности, используя срез за три дня\n",
    "decomposed.seasonal['08-01-2018':'08-03-2018'].plot(figsize=(15,9))\n",
    "plt.title('Суточный график сезонности кол-ва заказов такси в аэропортах', fontsize=18)\n",
    "plt.xlabel('Дата', fontsize=14)\n",
    "plt.ylabel('Кол-во заказов', fontsize=14)\n",
    "plt.show()"
   ]
  },
  {
   "cell_type": "markdown",
   "metadata": {},
   "source": [
    "Итак, на графике мы имеем суточную сезонность кол-ва заказов такси в аэропортах (если мы используем срез за более длительный период - сезонность сохранится, так как она повторяется каждые сутки). На графике мы можем отметить пик заказов в 00:00 часов, а так же наименьшее кол-во заказов в 6:00 утра. Можно предположить, что пик пассажиров в аэропортах приходится на 00:00 часов, тогда как в 6:00 утра их наименьшее кол-во. "
   ]
  },
  {
   "cell_type": "markdown",
   "metadata": {},
   "source": [
    "Выше мы рассмотрели суточую сезонность. Сделаем ресемплинг данных по суткам и рассмотрим недельный график сезонности. "
   ]
  },
  {
   "cell_type": "code",
   "execution_count": 14,
   "metadata": {},
   "outputs": [],
   "source": [
    "# Применим функцию seasonal_decompose к датасету\n",
    "decomposed_week = seasonal_decompose(taxi.resample('1D').sum()['num_orders'])"
   ]
  },
  {
   "cell_type": "code",
   "execution_count": 15,
   "metadata": {},
   "outputs": [
    {
     "data": {
      "image/png": "[encoded data removed]",
      "text/plain": [
       "<Figure size 1500x900 with 1 Axes>"
      ]
     },
     "metadata": {},
     "output_type": "display_data"
    }
   ],
   "source": [
    "# Построим график сезонности, используя срез за месяц\n",
    "decomposed_week.seasonal['08-01-2018':'08-31-2018'].plot(figsize=(15,9))\n",
    "plt.title('Недельный график сезонности кол-ва заказов такси в аэропортах', fontsize=18)\n",
    "plt.xlabel('Дата', fontsize=14)\n",
    "plt.ylabel('Кол-во заказов', fontsize=14)\n",
    "plt.show()"
   ]
  },
  {
   "cell_type": "markdown",
   "metadata": {},
   "source": [
    "Итак, на графике недельной сезонности мы можем отметить пик кол-ва заказов 6, 13, 20 и 27 августа - в 2018 году на эти даты приходился **понедельник**. Так же значительное кол-во заказов приходится на 3, 10, 17 и 24 августа - в 2018 года на эти даты приходилась **пятница**. Наименьшее же кол-во заказов приходится на 7, 14, 21 и 28 августа - в 2018 году на эти даты приходился **вторник**, так же довольно малое кол-во заказов приходилось на 5, 12, 19 и 26 августа - в 2018 года на эти даты приходилось **воскресенье**.\n",
    "\n",
    "Как правило часто люди улетают в пятницу на выходные, а возвращаются в понедельник. Во вторник же или воскресенье люди редко куда вылетают или возвращаются. "
   ]
  },
  {
   "cell_type": "markdown",
   "metadata": {},
   "source": [
    "**Промежуточный итог:**\n",
    "\n",
    "- Временной ряд нашего датасета нестационарный;\n",
    "- Скользящее среднее увеличивается на протяжении всего графика;\n",
    "- Добавление разности временного ряда поможет сделать наш ряд более стационарным;\n",
    "- Временной ряд имеет тренд к увеличению числа заказов такси в аэропортах, наибольший рост с июля месяц по август.\n",
    "- Имеется суточная сезонность кол-ва заказов такси в аэропортах. Пик заказов в 00:00 часов, а наименьшее кол-во заказов в 6:00 утра.\n",
    "- Имеется недельная сезонность кол-ва заказов такси в аэропортах. Пик заказов приходится на понедельник и пятницу, а наименьшее кол-во заказов на вторник и воскресенье."
   ]
  },
  {
   "cell_type": "markdown",
   "metadata": {},
   "source": [
    "## Обучение"
   ]
  },
  {
   "cell_type": "markdown",
   "metadata": {},
   "source": [
    "### Создание признаков и выборок для моделей"
   ]
  },
  {
   "cell_type": "markdown",
   "metadata": {},
   "source": [
    "Создадим следующие входящие признаки для нашей модели:\n",
    "\n",
    "1. Календарные признаки - добавим столбцы: `day_of_week`, `hour` - так как ранее мы обнаружили суточную и недельную сезонности.\n",
    "2. «Отстающие значения» - предыдущие значения временного ряда подскажут, будет ли функция x(t) расти или уменьшаться. Это будут столбцы `lag_1`, `lag_2` и т.д.\n",
    "3. Скользящее среднее, при вычислении которого не будем включать текущее значение значение ряда, чтобы избежать утечку целевого признака. Данный признак задаст общий тренд временного ряда. Это будет столбец `rolling_mean`."
   ]
  },
  {
   "cell_type": "code",
   "execution_count": 16,
   "metadata": {},
   "outputs": [],
   "source": [
    "# Напишем функцию make_features(), которая создаcт вышесказанные входные признаки\n",
    "def make_features(data, max_lag, rolling_mean_size):\n",
    "    data['day_of_week'] = data.index.dayofweek\n",
    "    data['hour'] = data.index.hour\n",
    "    \n",
    "    for lag in range(1, max_lag + 1):\n",
    "        data[f'lag_{lag}'] = data['num_orders'].shift(lag)\n",
    "    \n",
    "    data['rolling_mean'] = data['num_orders'].shift().rolling(rolling_mean_size).mean()"
   ]
  },
  {
   "cell_type": "code",
   "execution_count": 17,
   "metadata": {},
   "outputs": [],
   "source": [
    "# Создадим входящие признаки функцией make_features()\n",
    "make_features(taxi, 24, 24)"
   ]
  },
  {
   "cell_type": "code",
   "execution_count": 18,
   "metadata": {},
   "outputs": [],
   "source": [
    "# Удалим из входящих признаков ранее созданные столбцы mean и std\n",
    "taxi = taxi.drop(['mean', 'std'], axis=1)"
   ]
  },
  {
   "cell_type": "code",
   "execution_count": 19,
   "metadata": {},
   "outputs": [
    {
     "name": "stdout",
     "output_type": "stream",
     "text": [
      "<class 'pandas.core.frame.DataFrame'>\n",
      "DatetimeIndex: 4416 entries, 2018-03-01 00:00:00 to 2018-08-31 23:00:00\n",
      "Freq: h\n",
      "Data columns (total 28 columns):\n",
      " #   Column        Non-Null Count  Dtype  \n",
      "---  ------        --------------  -----  \n",
      " 0   num_orders    4416 non-null   int64  \n",
      " 1   day_of_week   4416 non-null   int32  \n",
      " 2   hour          4416 non-null   int32  \n",
      " 3   lag_1         4415 non-null   float64\n",
      " 4   lag_2         4414 non-null   float64\n",
      " 5   lag_3         4413 non-null   float64\n",
      " 6   lag_4         4412 non-null   float64\n",
      " 7   lag_5         4411 non-null   float64\n",
      " 8   lag_6         4410 non-null   float64\n",
      " 9   lag_7         4409 non-null   float64\n",
      " 10  lag_8         4408 non-null   float64\n",
      " 11  lag_9         4407 non-null   float64\n",
      " 12  lag_10        4406 non-null   float64\n",
      " 13  lag_11        4405 non-null   float64\n",
      " 14  lag_12        4404 non-null   float64\n",
      " 15  lag_13        4403 non-null   float64\n",
      " 16  lag_14        4402 non-null   float64\n",
      " 17  lag_15        4401 non-null   float64\n",
      " 18  lag_16        4400 non-null   float64\n",
      " 19  lag_17        4399 non-null   float64\n",
      " 20  lag_18        4398 non-null   float64\n",
      " 21  lag_19        4397 non-null   float64\n",
      " 22  lag_20        4396 non-null   float64\n",
      " 23  lag_21        4395 non-null   float64\n",
      " 24  lag_22        4394 non-null   float64\n",
      " 25  lag_23        4393 non-null   float64\n",
      " 26  lag_24        4392 non-null   float64\n",
      " 27  rolling_mean  4392 non-null   float64\n",
      "dtypes: float64(25), int32(2), int64(1)\n",
      "memory usage: 966.0 KB\n"
     ]
    },
    {
     "data": {
      "text/html": [
       "<div>\n",
       "<style scoped>\n",
       "    .dataframe tbody tr th:only-of-type {\n",
       "        vertical-align: middle;\n",
       "    }\n",
       "\n",
       "    .dataframe tbody tr th {\n",
       "        vertical-align: top;\n",
       "    }\n",
       "\n",
       "    .dataframe thead th {\n",
       "        text-align: right;\n",
       "    }\n",
       "</style>\n",
       "<table border=\"1\" class=\"dataframe\">\n",
       "  <thead>\n",
       "    <tr style=\"text-align: right;\">\n",
       "      <th></th>\n",
       "      <th>num_orders</th>\n",
       "      <th>day_of_week</th>\n",
       "      <th>hour</th>\n",
       "      <th>lag_1</th>\n",
       "      <th>lag_2</th>\n",
       "      <th>lag_3</th>\n",
       "      <th>lag_4</th>\n",
       "      <th>lag_5</th>\n",
       "      <th>lag_6</th>\n",
       "      <th>lag_7</th>\n",
       "      <th>...</th>\n",
       "      <th>lag_16</th>\n",
       "      <th>lag_17</th>\n",
       "      <th>lag_18</th>\n",
       "      <th>lag_19</th>\n",
       "      <th>lag_20</th>\n",
       "      <th>lag_21</th>\n",
       "      <th>lag_22</th>\n",
       "      <th>lag_23</th>\n",
       "      <th>lag_24</th>\n",
       "      <th>rolling_mean</th>\n",
       "    </tr>\n",
       "    <tr>\n",
       "      <th>datetime</th>\n",
       "      <th></th>\n",
       "      <th></th>\n",
       "      <th></th>\n",
       "      <th></th>\n",
       "      <th></th>\n",
       "      <th></th>\n",
       "      <th></th>\n",
       "      <th></th>\n",
       "      <th></th>\n",
       "      <th></th>\n",
       "      <th></th>\n",
       "      <th></th>\n",
       "      <th></th>\n",
       "      <th></th>\n",
       "      <th></th>\n",
       "      <th></th>\n",
       "      <th></th>\n",
       "      <th></th>\n",
       "      <th></th>\n",
       "      <th></th>\n",
       "      <th></th>\n",
       "    </tr>\n",
       "  </thead>\n",
       "  <tbody>\n",
       "    <tr>\n",
       "      <th>2018-03-01 00:00:00</th>\n",
       "      <td>124</td>\n",
       "      <td>3</td>\n",
       "      <td>0</td>\n",
       "      <td>NaN</td>\n",
       "      <td>NaN</td>\n",
       "      <td>NaN</td>\n",
       "      <td>NaN</td>\n",
       "      <td>NaN</td>\n",
       "      <td>NaN</td>\n",
       "      <td>NaN</td>\n",
       "      <td>...</td>\n",
       "      <td>NaN</td>\n",
       "      <td>NaN</td>\n",
       "      <td>NaN</td>\n",
       "      <td>NaN</td>\n",
       "      <td>NaN</td>\n",
       "      <td>NaN</td>\n",
       "      <td>NaN</td>\n",
       "      <td>NaN</td>\n",
       "      <td>NaN</td>\n",
       "      <td>NaN</td>\n",
       "    </tr>\n",
       "    <tr>\n",
       "      <th>2018-03-01 01:00:00</th>\n",
       "      <td>85</td>\n",
       "      <td>3</td>\n",
       "      <td>1</td>\n",
       "      <td>124.0</td>\n",
       "      <td>NaN</td>\n",
       "      <td>NaN</td>\n",
       "      <td>NaN</td>\n",
       "      <td>NaN</td>\n",
       "      <td>NaN</td>\n",
       "      <td>NaN</td>\n",
       "      <td>...</td>\n",
       "      <td>NaN</td>\n",
       "      <td>NaN</td>\n",
       "      <td>NaN</td>\n",
       "      <td>NaN</td>\n",
       "      <td>NaN</td>\n",
       "      <td>NaN</td>\n",
       "      <td>NaN</td>\n",
       "      <td>NaN</td>\n",
       "      <td>NaN</td>\n",
       "      <td>NaN</td>\n",
       "    </tr>\n",
       "    <tr>\n",
       "      <th>2018-03-01 02:00:00</th>\n",
       "      <td>71</td>\n",
       "      <td>3</td>\n",
       "      <td>2</td>\n",
       "      <td>85.0</td>\n",
       "      <td>124.0</td>\n",
       "      <td>NaN</td>\n",
       "      <td>NaN</td>\n",
       "      <td>NaN</td>\n",
       "      <td>NaN</td>\n",
       "      <td>NaN</td>\n",
       "      <td>...</td>\n",
       "      <td>NaN</td>\n",
       "      <td>NaN</td>\n",
       "      <td>NaN</td>\n",
       "      <td>NaN</td>\n",
       "      <td>NaN</td>\n",
       "      <td>NaN</td>\n",
       "      <td>NaN</td>\n",
       "      <td>NaN</td>\n",
       "      <td>NaN</td>\n",
       "      <td>NaN</td>\n",
       "    </tr>\n",
       "    <tr>\n",
       "      <th>2018-03-01 03:00:00</th>\n",
       "      <td>66</td>\n",
       "      <td>3</td>\n",
       "      <td>3</td>\n",
       "      <td>71.0</td>\n",
       "      <td>85.0</td>\n",
       "      <td>124.0</td>\n",
       "      <td>NaN</td>\n",
       "      <td>NaN</td>\n",
       "      <td>NaN</td>\n",
       "      <td>NaN</td>\n",
       "      <td>...</td>\n",
       "      <td>NaN</td>\n",
       "      <td>NaN</td>\n",
       "      <td>NaN</td>\n",
       "      <td>NaN</td>\n",
       "      <td>NaN</td>\n",
       "      <td>NaN</td>\n",
       "      <td>NaN</td>\n",
       "      <td>NaN</td>\n",
       "      <td>NaN</td>\n",
       "      <td>NaN</td>\n",
       "    </tr>\n",
       "    <tr>\n",
       "      <th>2018-03-01 04:00:00</th>\n",
       "      <td>43</td>\n",
       "      <td>3</td>\n",
       "      <td>4</td>\n",
       "      <td>66.0</td>\n",
       "      <td>71.0</td>\n",
       "      <td>85.0</td>\n",
       "      <td>124.0</td>\n",
       "      <td>NaN</td>\n",
       "      <td>NaN</td>\n",
       "      <td>NaN</td>\n",
       "      <td>...</td>\n",
       "      <td>NaN</td>\n",
       "      <td>NaN</td>\n",
       "      <td>NaN</td>\n",
       "      <td>NaN</td>\n",
       "      <td>NaN</td>\n",
       "      <td>NaN</td>\n",
       "      <td>NaN</td>\n",
       "      <td>NaN</td>\n",
       "      <td>NaN</td>\n",
       "      <td>NaN</td>\n",
       "    </tr>\n",
       "  </tbody>\n",
       "</table>\n",
       "<p>5 rows × 28 columns</p>\n",
       "</div>"
      ],
      "text/plain": [
       "                     num_orders  day_of_week  hour  lag_1  lag_2  lag_3  \\\n",
       "datetime                                                                  \n",
       "2018-03-01 00:00:00         124            3     0    NaN    NaN    NaN   \n",
       "2018-03-01 01:00:00          85            3     1  124.0    NaN    NaN   \n",
       "2018-03-01 02:00:00          71            3     2   85.0  124.0    NaN   \n",
       "2018-03-01 03:00:00          66            3     3   71.0   85.0  124.0   \n",
       "2018-03-01 04:00:00          43            3     4   66.0   71.0   85.0   \n",
       "\n",
       "                     lag_4  lag_5  lag_6  lag_7  ...  lag_16  lag_17  lag_18  \\\n",
       "datetime                                         ...                           \n",
       "2018-03-01 00:00:00    NaN    NaN    NaN    NaN  ...     NaN     NaN     NaN   \n",
       "2018-03-01 01:00:00    NaN    NaN    NaN    NaN  ...     NaN     NaN     NaN   \n",
       "2018-03-01 02:00:00    NaN    NaN    NaN    NaN  ...     NaN     NaN     NaN   \n",
       "2018-03-01 03:00:00    NaN    NaN    NaN    NaN  ...     NaN     NaN     NaN   \n",
       "2018-03-01 04:00:00  124.0    NaN    NaN    NaN  ...     NaN     NaN     NaN   \n",
       "\n",
       "                     lag_19  lag_20  lag_21  lag_22  lag_23  lag_24  \\\n",
       "datetime                                                              \n",
       "2018-03-01 00:00:00     NaN     NaN     NaN     NaN     NaN     NaN   \n",
       "2018-03-01 01:00:00     NaN     NaN     NaN     NaN     NaN     NaN   \n",
       "2018-03-01 02:00:00     NaN     NaN     NaN     NaN     NaN     NaN   \n",
       "2018-03-01 03:00:00     NaN     NaN     NaN     NaN     NaN     NaN   \n",
       "2018-03-01 04:00:00     NaN     NaN     NaN     NaN     NaN     NaN   \n",
       "\n",
       "                     rolling_mean  \n",
       "datetime                           \n",
       "2018-03-01 00:00:00           NaN  \n",
       "2018-03-01 01:00:00           NaN  \n",
       "2018-03-01 02:00:00           NaN  \n",
       "2018-03-01 03:00:00           NaN  \n",
       "2018-03-01 04:00:00           NaN  \n",
       "\n",
       "[5 rows x 28 columns]"
      ]
     },
     "execution_count": 19,
     "metadata": {},
     "output_type": "execute_result"
    }
   ],
   "source": [
    "# Выведем информацию о датасете\n",
    "taxi.info()\n",
    "\n",
    "taxi.head(5)"
   ]
  },
  {
   "cell_type": "markdown",
   "metadata": {},
   "source": [
    "Новые входящие признаки успешно добавлены в датасет. Так как получить признаки `lag_` и `rolling_mean` для первых значений обучающей выборки нельзя: исторических данных по ним нет, то их нужно удалить."
   ]
  },
  {
   "cell_type": "code",
   "execution_count": 20,
   "metadata": {},
   "outputs": [
    {
     "data": {
      "text/plain": [
       "num_orders      0\n",
       "day_of_week     0\n",
       "hour            0\n",
       "lag_1           0\n",
       "lag_2           0\n",
       "lag_3           0\n",
       "lag_4           0\n",
       "lag_5           0\n",
       "lag_6           0\n",
       "lag_7           0\n",
       "lag_8           0\n",
       "lag_9           0\n",
       "lag_10          0\n",
       "lag_11          0\n",
       "lag_12          0\n",
       "lag_13          0\n",
       "lag_14          0\n",
       "lag_15          0\n",
       "lag_16          0\n",
       "lag_17          0\n",
       "lag_18          0\n",
       "lag_19          0\n",
       "lag_20          0\n",
       "lag_21          0\n",
       "lag_22          0\n",
       "lag_23          0\n",
       "lag_24          0\n",
       "rolling_mean    0\n",
       "dtype: int64"
      ]
     },
     "execution_count": 20,
     "metadata": {},
     "output_type": "execute_result"
    }
   ],
   "source": [
    "# Удалим пропуски\n",
    "taxi = taxi.dropna()\n",
    "\n",
    "taxi.isna().sum()"
   ]
  },
  {
   "cell_type": "markdown",
   "metadata": {},
   "source": [
    "Разобьем данные на тренировочную, валидационную и тестовую выборки. "
   ]
  },
  {
   "cell_type": "code",
   "execution_count": 21,
   "metadata": {},
   "outputs": [],
   "source": [
    "# Сохраним входные признаки в переменную X\n",
    "X = taxi.drop('num_orders', axis=1)"
   ]
  },
  {
   "cell_type": "code",
   "execution_count": 22,
   "metadata": {},
   "outputs": [],
   "source": [
    "# Сохраним целевой признак в переменную y\n",
    "y = taxi['num_orders']"
   ]
  },
  {
   "cell_type": "code",
   "execution_count": 23,
   "metadata": {},
   "outputs": [],
   "source": [
    "# Разделим на тренировочную и тестовую выборки\n",
    "# Укажем аргумент shuffle=False, чтобы разделить данные корректно\n",
    "X_train, X_test, y_train, y_test = train_test_split(\n",
    "    X, \n",
    "    y, \n",
    "    shuffle=False, \n",
    "    test_size=0.1\n",
    ")"
   ]
  },
  {
   "cell_type": "code",
   "execution_count": 24,
   "metadata": {},
   "outputs": [
    {
     "name": "stdout",
     "output_type": "stream",
     "text": [
      "X_train min: 2018-03-02 00:00:00 max: 2018-08-13 15:00:00\n",
      "X_test min: 2018-08-13 16:00:00 max: 2018-08-31 23:00:00\n",
      "y_train min: 2018-03-02 00:00:00 max: 2018-08-13 15:00:00\n",
      "y_test: 2018-08-13 16:00:00 max: 2018-08-31 23:00:00\n"
     ]
    }
   ],
   "source": [
    "# Проверим, корректно ли разбились данные\n",
    "print(f'X_train min: {X_train.index.min()} max: {X_train.index.max()}')\n",
    "print(f'X_test min: {X_test.index.min()} max: {X_test.index.max()}')\n",
    "\n",
    "print(f'y_train min: {y_train.index.min()} max: {y_train.index.max()}')\n",
    "print(f'y_test: {y_test.index.min()} max: {y_test.index.max()}')"
   ]
  },
  {
   "cell_type": "markdown",
   "metadata": {},
   "source": [
    "Итак, максимальное значение индекса тренировочных выборок предшествует минимальному значению индекса тестовых выборок. Тренировочные выборки имеют наименьшие дату и время, а в тестовых выборках содержатся максимальные значение даты и времени из всего датасета. Тренировочные и тестовые выборки сформированы корректно."
   ]
  },
  {
   "cell_type": "markdown",
   "metadata": {},
   "source": [
    "### Обучение моделей"
   ]
  },
  {
   "cell_type": "markdown",
   "metadata": {},
   "source": [
    "**Обучим следующие модели с различными гиперпараметрами:**\n",
    "\n",
    "1. Модель линейной регрессии `LinearRegression()`\n",
    "2. Модель градиентного бустинга `LGBMRegressor()`\n",
    "3. Модель градиентного бустинга `CatBoostRegressor()`\n",
    "\n",
    "Константной моделью `DummyRegressor` проверим вышепречисленные модели на адекватность.\n",
    "\n",
    "Подбор гиперпараметров будем проводить с помощью `GridSearchCV`, а для оценки качества модели будем использовать метрику `RMSE`."
   ]
  },
  {
   "cell_type": "markdown",
   "metadata": {},
   "source": [
    "Для кросс-валидации используем объект `TimeSeriesSplit`, который позволит разбить данные временных рядов на выборки, сохраняя временной порядок. "
   ]
  },
  {
   "cell_type": "code",
   "execution_count": 25,
   "metadata": {},
   "outputs": [],
   "source": [
    "# Запишем TimeSeriesSplit с 5 выборками в переменную tscv \n",
    "tscv = TimeSeriesSplit(n_splits=5)"
   ]
  },
  {
   "cell_type": "markdown",
   "metadata": {},
   "source": [
    "#### Обучим константную модель  `DummyRegressor`"
   ]
  },
  {
   "cell_type": "code",
   "execution_count": 26,
   "metadata": {},
   "outputs": [],
   "source": [
    "# Сохраним модель DummyRegressor\n",
    "dummy_model = DummyRegressor()"
   ]
  },
  {
   "cell_type": "code",
   "execution_count": 27,
   "metadata": {},
   "outputs": [
    {
     "name": "stdout",
     "output_type": "stream",
     "text": [
      "Среднее значение RMSE на кросс-валидации: 40.53\n",
      "Стандартное отклонение метрики: 8.44\n"
     ]
    }
   ],
   "source": [
    "# Оценим модель DummyRegressor на кросс-валидации\n",
    "scores_dummy = cross_val_score(\n",
    "    dummy_model, \n",
    "    X_train,\n",
    "    y_train,\n",
    "    cv=tscv, \n",
    "    scoring='neg_root_mean_squared_error'\n",
    ")\n",
    "\n",
    "print(f\"Среднее значение RMSE на кросс-валидации: {-scores_dummy.mean():.2f}\")\n",
    "print(f\"Стандартное отклонение метрики: {scores_dummy.std():.2f}\")"
   ]
  },
  {
   "cell_type": "markdown",
   "metadata": {},
   "source": [
    "Итак, мы получили среднюю метрику `RMSE` на кросс валидации константной модели `DummyRegressor` равную 40.5; стандартное отклонение метрик составило 8.4, что говорит нам о довольно большом разбросе метрик `RMSE` при кросс-валидации. "
   ]
  },
  {
   "cell_type": "markdown",
   "metadata": {},
   "source": [
    "#### Обучим модель линейной регрессии `LinearRegression`"
   ]
  },
  {
   "cell_type": "markdown",
   "metadata": {},
   "source": [
    "Создадим списки с названиями признаков для кодирования и масштабирования."
   ]
  },
  {
   "cell_type": "code",
   "execution_count": 28,
   "metadata": {},
   "outputs": [],
   "source": [
    "# В переменную ohe_columns запишем категориальные признаки для OneHotEncoder\n",
    "ohe_columns = ['day_of_week', 'hour']"
   ]
  },
  {
   "cell_type": "code",
   "execution_count": 29,
   "metadata": {},
   "outputs": [],
   "source": [
    "# В переменную num_columns запишем количественные признаки\n",
    "num_columns = ['lag_1', 'lag_2', 'lag_3', 'lag_4','lag_5', 'lag_6', \n",
    "               'lag_7', 'lag_8', 'lag_9', 'lag_10', 'lag_11','lag_12', \n",
    "               'lag_13', 'lag_14', 'lag_15', 'lag_16', 'lag_17', 'lag_18',\n",
    "               'lag_19', 'lag_20', 'lag_21', 'lag_22', 'lag_23', 'lag_24','rolling_mean']"
   ]
  },
  {
   "cell_type": "markdown",
   "metadata": {},
   "source": [
    "Cоздадим пайплайн для подготовки данных кодированием `OneHotEncoder`"
   ]
  },
  {
   "cell_type": "code",
   "execution_count": 30,
   "metadata": {},
   "outputs": [],
   "source": [
    "# Создадим пайплайн ohe_pipe для кодирования OneHotEncoder\n",
    "ohe_pipe = Pipeline(\n",
    "    [\n",
    "        ('ohe', OneHotEncoder(drop='first', handle_unknown='ignore'))\n",
    "    ]\n",
    ")"
   ]
  },
  {
   "cell_type": "markdown",
   "metadata": {},
   "source": [
    "Создадим пайплайн для масштабирования данных."
   ]
  },
  {
   "cell_type": "code",
   "execution_count": 31,
   "metadata": {},
   "outputs": [],
   "source": [
    "# Создадим пайплайн num_pipe для масштабирования данных\n",
    "num_pipe = Pipeline(\n",
    "    [\n",
    "        ('num', StandardScaler())\n",
    "    ]\n",
    ")"
   ]
  },
  {
   "cell_type": "markdown",
   "metadata": {},
   "source": [
    "Создадим общий пайплайн для подготовки данных."
   ]
  },
  {
   "cell_type": "code",
   "execution_count": 32,
   "metadata": {},
   "outputs": [],
   "source": [
    "# Создадим общий пайплайн data_pipe для подготовки данных\n",
    "data_pipe = ColumnTransformer(\n",
    "    [\n",
    "        ('ohe', ohe_pipe, ohe_columns), \n",
    "        ('num', num_pipe, num_columns)\n",
    "    ], \n",
    "    remainder='passthrough'\n",
    ")"
   ]
  },
  {
   "cell_type": "markdown",
   "metadata": {},
   "source": [
    "Cоздадим итоговый пайплайн: подготовка данных и модель."
   ]
  },
  {
   "cell_type": "code",
   "execution_count": 33,
   "metadata": {},
   "outputs": [],
   "source": [
    "# Cоздадим итоговый пайплайн final_pipe: подготовка данных и модель\n",
    "lg_pipe = Pipeline(\n",
    "    [\n",
    "        ('preparation', data_pipe), \n",
    "        ('model', LinearRegression())\n",
    "    ]\n",
    ")"
   ]
  },
  {
   "cell_type": "code",
   "execution_count": 34,
   "metadata": {},
   "outputs": [
    {
     "name": "stdout",
     "output_type": "stream",
     "text": [
      "Среднее значение RMSE на кросс-валидации: 25.44\n",
      "Стандартное отклонение метрики: 3.04\n"
     ]
    }
   ],
   "source": [
    "# Оценим модель LinearRegression() на кросс-валидации\n",
    "scores = cross_val_score(\n",
    "    lg_pipe, \n",
    "    X_train,\n",
    "    y_train,\n",
    "    cv=tscv, \n",
    "    scoring='neg_root_mean_squared_error'\n",
    ")\n",
    "\n",
    "print(f\"Среднее значение RMSE на кросс-валидации: {-scores.mean():.2f}\")\n",
    "print(f\"Стандартное отклонение метрики: {scores.std():.2f}\")"
   ]
  },
  {
   "cell_type": "markdown",
   "metadata": {},
   "source": [
    "Итак, мы получили среднюю метрику `RMSE` на кросс валидации модели линейной регрессии `LinearRegression()`равную `25.44`; стандартное отклонение метрик составило `3.04`, что говорит нам о том, что метрики `RMSE` при кросс-валидации довольно близки друг к другу. "
   ]
  },
  {
   "cell_type": "markdown",
   "metadata": {},
   "source": [
    "#### Обучим модель градиентного бустинга `LGBMRegressor()`"
   ]
  },
  {
   "cell_type": "code",
   "execution_count": 35,
   "metadata": {},
   "outputs": [],
   "source": [
    "# Зададим базовые параметры модели\n",
    "lgb_model = lgb.LGBMRegressor(\n",
    "    objective='regression', \n",
    "    metric='rmse', \n",
    "    n_estimators=300, \n",
    "    verbosity= -1,\n",
    "    learning_rate=0.1\n",
    ")"
   ]
  },
  {
   "cell_type": "code",
   "execution_count": 36,
   "metadata": {},
   "outputs": [],
   "source": [
    "# Cписок с гиперпараметрами\n",
    "param_lgb = {\n",
    "    'learning_rate': [0.05, 0.1], \n",
    "    'max_depth': [5, 15],\n",
    "    'num_leaves':  [30, 100],\n",
    "}"
   ]
  },
  {
   "cell_type": "code",
   "execution_count": 37,
   "metadata": {},
   "outputs": [],
   "source": [
    "# Создаем GridSearchCV\n",
    "grid_lgb_model = GridSearchCV(\n",
    "    lgb_model, \n",
    "    param_lgb, \n",
    "    scoring='neg_root_mean_squared_error', \n",
    "    cv=tscv, \n",
    "    verbose=10,\n",
    "    n_jobs=-1\n",
    ")"
   ]
  },
  {
   "cell_type": "code",
   "execution_count": 38,
   "metadata": {},
   "outputs": [
    {
     "name": "stdout",
     "output_type": "stream",
     "text": [
      "Fitting 5 folds for each of 8 candidates, totalling 40 fits\n",
      "[CV 4/5; 1/8] START learning_rate=0.05, max_depth=5, num_leaves=30..............\n",
      "[CV 2/5; 1/8] START learning_rate=0.05, max_depth=5, num_leaves=30..............\n",
      "[CV 1/5; 1/8] START learning_rate=0.05, max_depth=5, num_leaves=30..............\n",
      "[CV 3/5; 1/8] START learning_rate=0.05, max_depth=5, num_leaves=30..............\n",
      "[CV 1/5; 2/8] START learning_rate=0.05, max_depth=5, num_leaves=100.............\n",
      "[CV 5/5; 1/8] START learning_rate=0.05, max_depth=5, num_leaves=30..............\n",
      "[CV 2/5; 2/8] START learning_rate=0.05, max_depth=5, num_leaves=100.............\n",
      "[CV 3/5; 2/8] START learning_rate=0.05, max_depth=5, num_leaves=100.............\n",
      "[CV 1/5; 1/8] END learning_rate=0.05, max_depth=5, num_leaves=30;, score=-22.301 total time=   2.0s\n",
      "[CV 1/5; 2/8] END learning_rate=0.05, max_depth=5, num_leaves=100;, score=-22.301 total time=   2.0s\n",
      "[CV 4/5; 2/8] START learning_rate=0.05, max_depth=5, num_leaves=100.............\n",
      "[CV 5/5; 2/8] START learning_rate=0.05, max_depth=5, num_leaves=100.............\n",
      "[CV 2/5; 1/8] END learning_rate=0.05, max_depth=5, num_leaves=30;, score=-21.629 total time=   2.6s\n",
      "[CV 3/5; 1/8] END learning_rate=0.05, max_depth=5, num_leaves=30;, score=-23.655 total time=   2.6s\n",
      "[CV 1/5; 3/8] START learning_rate=0.05, max_depth=15, num_leaves=30.............\n",
      "[CV 2/5; 2/8] END learning_rate=0.05, max_depth=5, num_leaves=100;, score=-21.629 total time=   2.6s\n",
      "[CV 2/5; 3/8] START learning_rate=0.05, max_depth=15, num_leaves=30.............\n",
      "[CV 3/5; 3/8] START learning_rate=0.05, max_depth=15, num_leaves=30.............\n",
      "[CV 3/5; 2/8] END learning_rate=0.05, max_depth=5, num_leaves=100;, score=-23.538 total time=   2.6s\n",
      "[CV 4/5; 3/8] START learning_rate=0.05, max_depth=15, num_leaves=30.............\n",
      "[CV 5/5; 1/8] END learning_rate=0.05, max_depth=5, num_leaves=30;, score=-31.601 total time=   3.1s\n",
      "[CV 5/5; 3/8] START learning_rate=0.05, max_depth=15, num_leaves=30.............\n",
      "[CV 4/5; 1/8] END learning_rate=0.05, max_depth=5, num_leaves=30;, score=-24.311 total time=   3.5s\n",
      "[CV 1/5; 4/8] START learning_rate=0.05, max_depth=15, num_leaves=100............\n",
      "[CV 4/5; 2/8] END learning_rate=0.05, max_depth=5, num_leaves=100;, score=-24.311 total time=   3.0s\n",
      "[CV 2/5; 4/8] START learning_rate=0.05, max_depth=15, num_leaves=100............\n",
      "[CV 5/5; 2/8] END learning_rate=0.05, max_depth=5, num_leaves=100;, score=-31.423 total time=   3.2s\n",
      "[CV 3/5; 4/8] START learning_rate=0.05, max_depth=15, num_leaves=100............\n",
      "[CV 1/5; 3/8] END learning_rate=0.05, max_depth=15, num_leaves=30;, score=-23.022 total time=   4.6s\n",
      "[CV 4/5; 4/8] START learning_rate=0.05, max_depth=15, num_leaves=100............\n",
      "[CV 1/5; 4/8] END learning_rate=0.05, max_depth=15, num_leaves=100;, score=-23.022 total time=   4.5s\n",
      "[CV 5/5; 4/8] START learning_rate=0.05, max_depth=15, num_leaves=100............\n",
      "[CV 2/5; 3/8] END learning_rate=0.05, max_depth=15, num_leaves=30;, score=-21.867 total time=   5.7s\n",
      "[CV 1/5; 5/8] START learning_rate=0.1, max_depth=5, num_leaves=30...............\n",
      "[CV 3/5; 3/8] END learning_rate=0.05, max_depth=15, num_leaves=30;, score=-23.900 total time=   5.8s\n",
      "[CV 2/5; 5/8] START learning_rate=0.1, max_depth=5, num_leaves=30...............\n",
      "[CV 4/5; 3/8] END learning_rate=0.05, max_depth=15, num_leaves=30;, score=-24.848 total time=   6.1s\n",
      "[CV 3/5; 5/8] START learning_rate=0.1, max_depth=5, num_leaves=30...............\n",
      "[CV 5/5; 3/8] END learning_rate=0.05, max_depth=15, num_leaves=30;, score=-31.286 total time=   6.2s\n",
      "[CV 4/5; 5/8] START learning_rate=0.1, max_depth=5, num_leaves=30...............\n",
      "[CV 1/5; 5/8] END learning_rate=0.1, max_depth=5, num_leaves=30;, score=-22.764 total time=   2.2s\n",
      "[CV 5/5; 5/8] START learning_rate=0.1, max_depth=5, num_leaves=30...............\n",
      "[CV 2/5; 5/8] END learning_rate=0.1, max_depth=5, num_leaves=30;, score=-21.951 total time=   2.7s\n",
      "[CV 1/5; 6/8] START learning_rate=0.1, max_depth=5, num_leaves=100..............\n",
      "[CV 3/5; 5/8] END learning_rate=0.1, max_depth=5, num_leaves=30;, score=-23.557 total time=   2.7s\n",
      "[CV 2/5; 6/8] START learning_rate=0.1, max_depth=5, num_leaves=100..............\n",
      "[CV 4/5; 5/8] END learning_rate=0.1, max_depth=5, num_leaves=30;, score=-24.714 total time=   2.6s\n",
      "[CV 3/5; 6/8] START learning_rate=0.1, max_depth=5, num_leaves=100..............\n",
      "[CV 2/5; 4/8] END learning_rate=0.05, max_depth=15, num_leaves=100;, score=-21.826 total time=   7.6s\n",
      "[CV 4/5; 6/8] START learning_rate=0.1, max_depth=5, num_leaves=100..............\n",
      "[CV 1/5; 6/8] END learning_rate=0.1, max_depth=5, num_leaves=100;, score=-22.764 total time=   2.6s\n",
      "[CV 5/5; 6/8] START learning_rate=0.1, max_depth=5, num_leaves=100..............\n",
      "[CV 5/5; 5/8] END learning_rate=0.1, max_depth=5, num_leaves=30;, score=-31.487 total time=   3.7s\n",
      "[CV 1/5; 7/8] START learning_rate=0.1, max_depth=15, num_leaves=30..............\n",
      "[CV 2/5; 6/8] END learning_rate=0.1, max_depth=5, num_leaves=100;, score=-21.951 total time=   3.3s\n",
      "[CV 2/5; 7/8] START learning_rate=0.1, max_depth=15, num_leaves=30..............\n",
      "[CV 3/5; 6/8] END learning_rate=0.1, max_depth=5, num_leaves=100;, score=-23.557 total time=   3.4s\n",
      "[CV 3/5; 7/8] START learning_rate=0.1, max_depth=15, num_leaves=30..............\n",
      "[CV 3/5; 4/8] END learning_rate=0.05, max_depth=15, num_leaves=100;, score=-23.971 total time=  10.8s\n",
      "[CV 4/5; 7/8] START learning_rate=0.1, max_depth=15, num_leaves=30..............\n",
      "[CV 4/5; 6/8] END learning_rate=0.1, max_depth=5, num_leaves=100;, score=-24.714 total time=   3.5s\n",
      "[CV 5/5; 7/8] START learning_rate=0.1, max_depth=15, num_leaves=30..............\n",
      "[CV 5/5; 6/8] END learning_rate=0.1, max_depth=5, num_leaves=100;, score=-31.693 total time=   3.1s\n",
      "[CV 1/5; 8/8] START learning_rate=0.1, max_depth=15, num_leaves=100.............\n",
      "[CV 1/5; 7/8] END learning_rate=0.1, max_depth=15, num_leaves=30;, score=-23.308 total time=   4.4s\n",
      "[CV 2/5; 8/8] START learning_rate=0.1, max_depth=15, num_leaves=100.............\n",
      "[CV 2/5; 7/8] END learning_rate=0.1, max_depth=15, num_leaves=30;, score=-22.389 total time=   5.4s\n",
      "[CV 3/5; 8/8] START learning_rate=0.1, max_depth=15, num_leaves=100.............\n",
      "[CV 4/5; 4/8] END learning_rate=0.05, max_depth=15, num_leaves=100;, score=-24.713 total time=  13.6s\n",
      "[CV 4/5; 8/8] START learning_rate=0.1, max_depth=15, num_leaves=100.............\n",
      "[CV 3/5; 7/8] END learning_rate=0.1, max_depth=15, num_leaves=30;, score=-24.220 total time=   6.6s\n",
      "[CV 5/5; 8/8] START learning_rate=0.1, max_depth=15, num_leaves=100.............\n",
      "[CV 1/5; 8/8] END learning_rate=0.1, max_depth=15, num_leaves=100;, score=-23.308 total time=   5.6s\n",
      "[CV 4/5; 7/8] END learning_rate=0.1, max_depth=15, num_leaves=30;, score=-25.548 total time=   7.3s\n",
      "[CV 5/5; 7/8] END learning_rate=0.1, max_depth=15, num_leaves=30;, score=-31.317 total time=   7.4s\n",
      "[CV 5/5; 4/8] END learning_rate=0.05, max_depth=15, num_leaves=100;, score=-31.470 total time=  17.0s\n",
      "[CV 2/5; 8/8] END learning_rate=0.1, max_depth=15, num_leaves=100;, score=-22.176 total time=   8.6s\n",
      "[CV 3/5; 8/8] END learning_rate=0.1, max_depth=15, num_leaves=100;, score=-23.854 total time=   9.5s\n",
      "[CV 4/5; 8/8] END learning_rate=0.1, max_depth=15, num_leaves=100;, score=-24.858 total time=   9.9s\n",
      "[CV 5/5; 8/8] END learning_rate=0.1, max_depth=15, num_leaves=100;, score=-31.401 total time=   8.9s\n",
      "CPU times: user 1.13 s, sys: 535 ms, total: 1.67 s\n",
      "Wall time: 34.4 s\n",
      "Лучшая модель и её параметры: {'learning_rate': 0.05, 'max_depth': 5, 'num_leaves': 100}\n",
      "Метрика RMSE лучшей модели на кросс-валидации: 24.64020313644267\n"
     ]
    }
   ],
   "source": [
    "# Обученим модели с поиском лучших параметров\n",
    "%time grid_lgb_model.fit(X_train, y_train)\n",
    "\n",
    "print('Лучшая модель и её параметры:', grid_lgb_model.best_params_)\n",
    "print ('Метрика RMSE лучшей модели на кросс-валидации:', -grid_lgb_model.best_score_)"
   ]
  },
  {
   "cell_type": "markdown",
   "metadata": {},
   "source": [
    "Итак, по итогам работы `GridSearchCV` мы получили модель `LGBMRegressor` со следующими гиперпараметрами: `learning_rate: 0.05, max_depth: 5, 'num_leaves': 100`. Метрика `RMSE` на кросс-валидации лучшей модели составила `24.64`."
   ]
  },
  {
   "cell_type": "markdown",
   "metadata": {},
   "source": [
    "#### Обучим модель градиентного бустинга `CatBoostRegressor()`"
   ]
  },
  {
   "cell_type": "code",
   "execution_count": 39,
   "metadata": {},
   "outputs": [],
   "source": [
    "# Зададим параметры модели\n",
    "cat_model = CatBoostRegressor(\n",
    "    loss_function='RMSE', \n",
    "    iterations=100, \n",
    "    verbose=0\n",
    ")"
   ]
  },
  {
   "cell_type": "code",
   "execution_count": 40,
   "metadata": {},
   "outputs": [],
   "source": [
    "# Cписок с гиперпараметрами\n",
    "param_cat = {\n",
    "    'learning_rate': [0.05, 0.1], \n",
    "    'depth': [5, 10]\n",
    "}"
   ]
  },
  {
   "cell_type": "code",
   "execution_count": 41,
   "metadata": {},
   "outputs": [],
   "source": [
    "# Создаем GridSearchCV\n",
    "grid_cat_model = GridSearchCV(\n",
    "    cat_model, \n",
    "    param_cat, \n",
    "    scoring='neg_root_mean_squared_error', \n",
    "    verbose=10,\n",
    "    cv=tscv,\n",
    "    n_jobs=-1\n",
    ")"
   ]
  },
  {
   "cell_type": "code",
   "execution_count": 42,
   "metadata": {},
   "outputs": [
    {
     "name": "stdout",
     "output_type": "stream",
     "text": [
      "Fitting 5 folds for each of 4 candidates, totalling 20 fits\n",
      "[CV 2/5; 1/4] START depth=5, learning_rate=0.05.................................\n",
      "[CV 3/5; 2/4] START depth=5, learning_rate=0.1..................................\n",
      "[CV 5/5; 1/4] START depth=5, learning_rate=0.05.................................\n",
      "[CV 4/5; 1/4] START depth=5, learning_rate=0.05.................................\n",
      "[CV 3/5; 1/4] START depth=5, learning_rate=0.05.................................\n",
      "[CV 1/5; 2/4] START depth=5, learning_rate=0.1..................................\n",
      "[CV 1/5; 1/4] START depth=5, learning_rate=0.05.................................\n",
      "[CV 2/5; 2/4] START depth=5, learning_rate=0.1..................................\n",
      "[CV 2/5; 1/4] END depth=5, learning_rate=0.05;, score=-22.946 total time=   0.3s\n",
      "[CV 1/5; 2/4] END .depth=5, learning_rate=0.1;, score=-21.875 total time=   0.3s\n",
      "[CV 4/5; 2/4] START depth=5, learning_rate=0.1..................................\n",
      "[CV 5/5; 2/4] START depth=5, learning_rate=0.1..................................\n",
      "[CV 1/5; 1/4] END depth=5, learning_rate=0.05;, score=-22.125 total time=   0.3s\n",
      "[CV 1/5; 3/4] START depth=10, learning_rate=0.05................................\n",
      "[CV 3/5; 2/4] END .depth=5, learning_rate=0.1;, score=-23.326 total time=   0.3s\n",
      "[CV 2/5; 3/4] START depth=10, learning_rate=0.05................................\n",
      "[CV 2/5; 2/4] END .depth=5, learning_rate=0.1;, score=-21.958 total time=   0.3s\n",
      "[CV 3/5; 1/4] END depth=5, learning_rate=0.05;, score=-24.260 total time=   0.3s\n",
      "[CV 3/5; 3/4] START depth=10, learning_rate=0.05................................\n",
      "[CV 4/5; 3/4] START depth=10, learning_rate=0.05................................\n",
      "[CV 4/5; 1/4] END depth=5, learning_rate=0.05;, score=-25.358 total time=   0.4s\n",
      "[CV 5/5; 3/4] START depth=10, learning_rate=0.05................................\n",
      "[CV 5/5; 1/4] END depth=5, learning_rate=0.05;, score=-34.509 total time=   0.5s\n",
      "[CV 1/5; 4/4] START depth=10, learning_rate=0.1.................................\n",
      "[CV 4/5; 2/4] END .depth=5, learning_rate=0.1;, score=-24.967 total time=   0.5s\n",
      "[CV 2/5; 4/4] START depth=10, learning_rate=0.1.................................\n",
      "[CV 5/5; 2/4] END .depth=5, learning_rate=0.1;, score=-33.064 total time=   0.6s\n",
      "[CV 3/5; 4/4] START depth=10, learning_rate=0.1.................................\n",
      "[CV 1/5; 3/4] END depth=10, learning_rate=0.05;, score=-22.635 total time=   3.5s\n",
      "[CV 4/5; 4/4] START depth=10, learning_rate=0.1.................................\n",
      "[CV 1/5; 4/4] END depth=10, learning_rate=0.1;, score=-22.472 total time=   3.6s\n",
      "[CV 5/5; 4/4] START depth=10, learning_rate=0.1.................................\n",
      "[CV 2/5; 3/4] END depth=10, learning_rate=0.05;, score=-23.774 total time=   4.6s\n",
      "[CV 2/5; 4/4] END depth=10, learning_rate=0.1;, score=-23.112 total time=   4.2s\n",
      "[CV 3/5; 3/4] END depth=10, learning_rate=0.05;, score=-24.736 total time=   4.9s\n",
      "[CV 4/5; 3/4] END depth=10, learning_rate=0.05;, score=-25.724 total time=   4.9s\n",
      "[CV 3/5; 4/4] END depth=10, learning_rate=0.1;, score=-24.044 total time=   4.5s\n",
      "[CV 5/5; 3/4] END depth=10, learning_rate=0.05;, score=-34.245 total time=   5.1s\n",
      "[CV 4/5; 4/4] END depth=10, learning_rate=0.1;, score=-25.401 total time=   2.6s\n",
      "[CV 5/5; 4/4] END depth=10, learning_rate=0.1;, score=-33.243 total time=   2.4s\n",
      "CPU times: user 696 ms, sys: 217 ms, total: 914 ms\n",
      "Wall time: 6.94 s\n",
      "Лучшая модель и её параметры: {'depth': 5, 'learning_rate': 0.1}\n",
      "Метрика RMSE лучшей модели на кросс-валидации: 25.03799049494893\n"
     ]
    }
   ],
   "source": [
    "# Обученим модели с поиском лучших параметров\n",
    "%time grid_cat_model.fit(X_train, y_train)\n",
    "\n",
    "\n",
    "print('Лучшая модель и её параметры:', grid_cat_model.best_params_)\n",
    "print ('Метрика RMSE лучшей модели на кросс-валидации:', -grid_cat_model.best_score_)"
   ]
  },
  {
   "cell_type": "markdown",
   "metadata": {},
   "source": [
    "Итак, по итогам работы `GridSearchCV` мы получили модель `CatBoostRegressor` со следующими гиперпараметрами: `depth: 5, learning_rate: 0.1`. Метрика `RMSE` на кросс-валидации лучшей модели составила `25.04`."
   ]
  },
  {
   "cell_type": "markdown",
   "metadata": {},
   "source": [
    "Итак, мы получили следующие метрики `RMSE` при кросс-валидации:\n",
    "\n",
    "- `DummyRegressor` — `RMSE 40.53`\n",
    "- `LinearRegression` — `RMSE 25.44`\n",
    "- `LGBMRegressor` — `RMSE 24.64`\n",
    "- `CatBoostRegressor` — `RMSE 25.04`\n",
    "\n",
    "Наилучшей метрикой `RMSE` обладает модель `LGBMRegressor` — `RMSE 24.64`. Модели `CatBoostRegressor` и `LinearRegression` справилась чуть хуже. Все модели прошли проверку на адекватность и их метрики гораздо выше метрики константной модели. "
   ]
  },
  {
   "cell_type": "markdown",
   "metadata": {},
   "source": [
    "**Промежуточный итог:**\n",
    "\n",
    "Для обучения моделей подготовили новые входящие признаки:\n",
    "\n",
    "- Календарные признаки - столбцы: `day_of_week`, `hour`.\n",
    "- «Отстающие значения» - столбцы `lag_1`, `lag_2`, `lag_3`, ..., `lag_23`, `lag_24`.\n",
    "- Скользящее среднее - столбец `rolling_mean`.\n",
    "\n",
    "\n",
    "Получили следующие модели:\n",
    "\n",
    "- Модель `DummyRegressor`. Метрика `RMSE` на кросс валидации составила `40.53`\n",
    "- Модель линейной регрессии `LinearRegression`. Метрика `RMSE` на кросс валидации составила `25.44`\n",
    "- Модель градиентного бустинга `LGBMRegressor` со следующими гиперпараметрами: `learning_rate: 0.05, max_depth: 5, num_leaves: 100`. Метрика `RMSE` на кросс-валидации лучшей модели составила `24.64`\n",
    "- Модель градиентного бустинга `CatBoostRegressor` со следующими гиперпараметрами: `depth: 5, learning_rate: 0.1`. Метрика `RMSE` на кросс-валидации лучшей модели составила `25.04`\n",
    "\n",
    "Наилучшей метрикой `RMSE` при кросс-валидации обладает модель `LGBMRegressor` — `RMSE 24.64`"
   ]
  },
  {
   "cell_type": "markdown",
   "metadata": {},
   "source": [
    "## Тестирование"
   ]
  },
  {
   "cell_type": "markdown",
   "metadata": {},
   "source": [
    "Проверим нашу лучшую модель на тестовых данных."
   ]
  },
  {
   "cell_type": "code",
   "execution_count": 43,
   "metadata": {},
   "outputs": [
    {
     "name": "stdout",
     "output_type": "stream",
     "text": [
      "Метрика RMSE модели LGBMRegressor на тестовой выборке: 41\n"
     ]
    }
   ],
   "source": [
    "# Получим метрику RMSE на тестовой выборке для модели LGBMRegressor\n",
    "print ('Метрика RMSE модели LGBMRegressor на тестовой выборке:', \n",
    "       round(root_mean_squared_error(y_test, grid_lgb_model.predict(X_test))))"
   ]
  },
  {
   "cell_type": "markdown",
   "metadata": {},
   "source": [
    "Итак, мы получили `RMSE` модели `LGBMRegressor` на тестовой выборке: 41, для заказчика значение метрики `RMSE` на тестовой выборке должно быть не больше 48. Метрика нашей лучшей модели ниже, а значит она успешно справляется с предсказаниями. Разница метрик лучшей модели на при кросс-валидации и тестовых данных составила 16, что говорит не высоком разбросе у модели."
   ]
  },
  {
   "cell_type": "markdown",
   "metadata": {},
   "source": [
    "### Итоговый вывод:"
   ]
  },
  {
   "cell_type": "markdown",
   "metadata": {},
   "source": [
    "В ходе выполнения проекта была проделана следующая работа:\n",
    "\n",
    "**Проведена предобработка данных:**\n",
    "\n",
    "- Столбец `datetime` привели к формату `datetime64` и сделали его индексным;\n",
    "- Провели ресемплирование датасета - установили интервал в 1 час;\n",
    "\n",
    "\n",
    "**Проведен исследовательский анализ данных:**\n",
    "\n",
    "- Временной ряд нашего датасета нестационарный;\n",
    "- Скользящее среднее увеличивается на протяжении всего графика;\n",
    "- Временной ряд имеет тренд к увеличению числа заказов такси в аэропортах, наибольший рост с июля месяц по август.\n",
    "- Имеется суточная сезонность кол-ва заказов такси в аэропортах. Пик заказов в 00:00 часов, а наименьшее кол-во заказов в 6:00 утра.\n",
    "- Имеется недельная сезонность кол-ва заказов такси в аэропортах. Пик заказов приходится на понедельник и пятницу, а наименьшее кол-во заказов на вторник и воскресенье.\n",
    "\n",
    "\n",
    "**Для обучения моделей подготовили новые входящие признаки:**\n",
    "\n",
    "- Календарные признаки - столбцы: `day_of_week`, `hour`.\n",
    "- «Отстающие значения» - столбцы `lag_1`, `lag_2`, `lag_3`, ..., `lag_23`, `lag_24`.\n",
    "- Скользящее среднее - столбец `rolling_mean`.\n",
    "\n",
    "**Обучили и получили следующие модели:**\n",
    "\n",
    "- Модель `DummyRegressor`. Метрика `RMSE` на кросс валидации составила 40.53\n",
    "- Модель линейной регрессии `LinearRegression`. Метрика `RMSE` на кросс валидации составила 25.44 \n",
    "- Модель градиентного бустинга `LGBMRegressor` со следующими гиперпараметрами: `learning_rate: 0.05, max_depth: 5, num_leaves: 100`. Метрика `RMSE` на кросс-валидации лучшей модели составила 24.64\n",
    "- Модель градиентного бустинга `CatBoostRegressor` со следующими гиперпараметрами: `depth: 5, learning_rate: 0.1`. Метрика `RMSE` на кросс-валидации лучшей модели составила 25.04\n",
    "\n",
    "  Наилучшей метрикой `RMSE` при кросс-валидации обладает модель `LGBMRegressor` — `RMSE 24.64`\n",
    "\n",
    "**Проверили лучшую модель на тестовых данных:**\n",
    "\n",
    "- Получили `RMSE` лучшей модели `LGBMRegressor` на тестовой выборке: `41`, для заказчика значение метрики `RMSE` на тестовой выборке должно быть `не больше 48`. Разница метрик лучшей модели на при кросс-валидации и тестовых данных составила 16, что говорит не высоком разбросе у модели."
   ]
  },
  {
   "cell_type": "code",
   "execution_count": null,
   "metadata": {},
   "outputs": [],
   "source": []
  }
 ],
 "metadata": {
  "ExecuteTimeLog": [
   {
    "duration": 9525,
    "start_time": "2025-06-03T08:51:29.550Z"
   },
   {
    "duration": 1532,
    "start_time": "2025-06-03T08:55:24.552Z"
   },
   {
    "duration": 115,
    "start_time": "2025-06-03T08:57:51.230Z"
   },
   {
    "duration": 14,
    "start_time": "2025-06-03T08:58:40.356Z"
   },
   {
    "duration": 14,
    "start_time": "2025-06-03T08:59:00.713Z"
   },
   {
    "duration": 71,
    "start_time": "2025-06-03T08:59:19.739Z"
   },
   {
    "duration": 13,
    "start_time": "2025-06-03T08:59:24.754Z"
   },
   {
    "duration": 12,
    "start_time": "2025-06-03T08:59:29.085Z"
   },
   {
    "duration": 38,
    "start_time": "2025-06-03T09:00:00.420Z"
   },
   {
    "duration": 10,
    "start_time": "2025-06-03T09:00:02.613Z"
   },
   {
    "duration": 38,
    "start_time": "2025-06-03T09:00:18.302Z"
   },
   {
    "duration": 10,
    "start_time": "2025-06-03T09:00:19.829Z"
   },
   {
    "duration": 35,
    "start_time": "2025-06-03T09:00:27.386Z"
   },
   {
    "duration": 12,
    "start_time": "2025-06-03T09:02:39.287Z"
   },
   {
    "duration": 4,
    "start_time": "2025-06-03T09:02:43.688Z"
   },
   {
    "duration": 4,
    "start_time": "2025-06-03T09:05:01.541Z"
   },
   {
    "duration": 10,
    "start_time": "2025-06-03T09:11:12.100Z"
   },
   {
    "duration": 12,
    "start_time": "2025-06-03T09:15:41.881Z"
   },
   {
    "duration": 51,
    "start_time": "2025-06-03T09:16:15.316Z"
   },
   {
    "duration": 14,
    "start_time": "2025-06-03T09:17:43.329Z"
   },
   {
    "duration": 33,
    "start_time": "2025-06-03T09:19:11.839Z"
   },
   {
    "duration": 14,
    "start_time": "2025-06-03T09:19:30.302Z"
   },
   {
    "duration": 742,
    "start_time": "2025-06-03T09:27:32.454Z"
   },
   {
    "duration": 14,
    "start_time": "2025-06-03T09:28:55.706Z"
   },
   {
    "duration": 9,
    "start_time": "2025-06-03T09:29:02.105Z"
   },
   {
    "duration": 10,
    "start_time": "2025-06-03T09:29:50.093Z"
   },
   {
    "duration": 17,
    "start_time": "2025-06-03T09:29:55.180Z"
   },
   {
    "duration": 661,
    "start_time": "2025-06-03T09:31:09.951Z"
   },
   {
    "duration": 739,
    "start_time": "2025-06-03T09:31:23.615Z"
   },
   {
    "duration": 8,
    "start_time": "2025-06-03T09:35:21.553Z"
   },
   {
    "duration": 11,
    "start_time": "2025-06-03T09:35:29.341Z"
   },
   {
    "duration": 7,
    "start_time": "2025-06-03T09:39:18.169Z"
   },
   {
    "duration": 15,
    "start_time": "2025-06-03T09:39:44.545Z"
   },
   {
    "duration": 10,
    "start_time": "2025-06-03T09:40:37.203Z"
   },
   {
    "duration": 296,
    "start_time": "2025-06-03T09:42:24.744Z"
   },
   {
    "duration": 8,
    "start_time": "2025-06-03T09:59:32.805Z"
   },
   {
    "duration": 14,
    "start_time": "2025-06-03T10:00:17.353Z"
   },
   {
    "duration": 414,
    "start_time": "2025-06-03T10:03:34.060Z"
   },
   {
    "duration": 341,
    "start_time": "2025-06-03T10:04:37.512Z"
   },
   {
    "duration": 349,
    "start_time": "2025-06-03T10:04:46.865Z"
   },
   {
    "duration": 6,
    "start_time": "2025-06-03T10:05:24.386Z"
   },
   {
    "duration": 436,
    "start_time": "2025-06-03T10:05:25.991Z"
   },
   {
    "duration": 5,
    "start_time": "2025-06-03T10:05:56.614Z"
   },
   {
    "duration": 328,
    "start_time": "2025-06-03T10:05:58.212Z"
   },
   {
    "duration": 5,
    "start_time": "2025-06-03T10:06:58.587Z"
   },
   {
    "duration": 324,
    "start_time": "2025-06-03T10:06:59.592Z"
   },
   {
    "duration": 5,
    "start_time": "2025-06-03T10:07:16.688Z"
   },
   {
    "duration": 337,
    "start_time": "2025-06-03T10:07:17.905Z"
   },
   {
    "duration": 5,
    "start_time": "2025-06-03T10:07:42.557Z"
   },
   {
    "duration": 4,
    "start_time": "2025-06-03T10:07:54.356Z"
   },
   {
    "duration": 304,
    "start_time": "2025-06-03T10:07:56.685Z"
   },
   {
    "duration": 433,
    "start_time": "2025-06-03T10:08:48.196Z"
   },
   {
    "duration": 10,
    "start_time": "2025-06-03T10:26:10.346Z"
   },
   {
    "duration": 24,
    "start_time": "2025-06-03T10:28:27.569Z"
   },
   {
    "duration": 17,
    "start_time": "2025-06-03T10:28:34.582Z"
   },
   {
    "duration": 6,
    "start_time": "2025-06-03T10:29:27.185Z"
   },
   {
    "duration": 250,
    "start_time": "2025-06-03T10:29:29.170Z"
   },
   {
    "duration": 198,
    "start_time": "2025-06-03T10:32:03.907Z"
   },
   {
    "duration": 172,
    "start_time": "2025-06-03T10:32:24.005Z"
   },
   {
    "duration": 175,
    "start_time": "2025-06-03T10:32:28.520Z"
   },
   {
    "duration": 172,
    "start_time": "2025-06-03T10:32:35.704Z"
   },
   {
    "duration": 255,
    "start_time": "2025-06-03T10:32:50.627Z"
   },
   {
    "duration": 263,
    "start_time": "2025-06-03T10:33:09.928Z"
   },
   {
    "duration": 259,
    "start_time": "2025-06-03T10:33:25.846Z"
   },
   {
    "duration": 4,
    "start_time": "2025-06-03T10:59:44.099Z"
   },
   {
    "duration": 12,
    "start_time": "2025-06-03T11:01:40.913Z"
   },
   {
    "duration": 29,
    "start_time": "2025-06-03T11:01:59.897Z"
   },
   {
    "duration": 22,
    "start_time": "2025-06-03T11:04:47.712Z"
   },
   {
    "duration": 23,
    "start_time": "2025-06-03T11:05:01.164Z"
   },
   {
    "duration": 22,
    "start_time": "2025-06-03T11:05:34.167Z"
   },
   {
    "duration": 119,
    "start_time": "2025-06-03T11:10:52.547Z"
   },
   {
    "duration": 4,
    "start_time": "2025-06-03T11:11:01.155Z"
   },
   {
    "duration": 3,
    "start_time": "2025-06-03T11:11:06.002Z"
   },
   {
    "duration": 18,
    "start_time": "2025-06-03T11:11:08.324Z"
   },
   {
    "duration": 6,
    "start_time": "2025-06-03T11:11:25.665Z"
   },
   {
    "duration": 7,
    "start_time": "2025-06-03T11:17:01.501Z"
   },
   {
    "duration": 10,
    "start_time": "2025-06-03T11:20:59.615Z"
   },
   {
    "duration": 5,
    "start_time": "2025-06-03T11:21:54.300Z"
   },
   {
    "duration": 6,
    "start_time": "2025-06-03T11:22:51.282Z"
   },
   {
    "duration": 5,
    "start_time": "2025-06-03T11:23:26.101Z"
   },
   {
    "duration": 6,
    "start_time": "2025-06-03T11:23:27.389Z"
   },
   {
    "duration": 124,
    "start_time": "2025-06-03T11:30:01.766Z"
   },
   {
    "duration": 5,
    "start_time": "2025-06-03T11:30:17.971Z"
   },
   {
    "duration": 5,
    "start_time": "2025-06-03T11:30:32.557Z"
   },
   {
    "duration": 5,
    "start_time": "2025-06-03T11:33:47.621Z"
   },
   {
    "duration": 4,
    "start_time": "2025-06-03T11:34:58.175Z"
   },
   {
    "duration": 11,
    "start_time": "2025-06-03T11:43:01.392Z"
   },
   {
    "duration": 6,
    "start_time": "2025-06-03T11:43:46.001Z"
   },
   {
    "duration": 10,
    "start_time": "2025-06-03T11:44:03.275Z"
   },
   {
    "duration": 6,
    "start_time": "2025-06-03T11:44:10.616Z"
   },
   {
    "duration": 3,
    "start_time": "2025-06-03T11:44:31.877Z"
   },
   {
    "duration": 13,
    "start_time": "2025-06-03T11:57:31.209Z"
   },
   {
    "duration": 16,
    "start_time": "2025-06-03T12:00:00.439Z"
   },
   {
    "duration": 4,
    "start_time": "2025-06-03T12:01:39.248Z"
   },
   {
    "duration": 21,
    "start_time": "2025-06-03T12:01:45.360Z"
   },
   {
    "duration": 18,
    "start_time": "2025-06-03T12:02:02.477Z"
   },
   {
    "duration": 19,
    "start_time": "2025-06-03T12:02:05.139Z"
   },
   {
    "duration": 8,
    "start_time": "2025-06-03T12:03:56.072Z"
   },
   {
    "duration": 4,
    "start_time": "2025-06-03T12:04:12.502Z"
   },
   {
    "duration": 8,
    "start_time": "2025-06-03T12:04:15.346Z"
   },
   {
    "duration": 16,
    "start_time": "2025-06-03T12:04:32.593Z"
   },
   {
    "duration": 5,
    "start_time": "2025-06-03T12:04:44.199Z"
   },
   {
    "duration": 3,
    "start_time": "2025-06-03T12:04:46.232Z"
   },
   {
    "duration": 5,
    "start_time": "2025-06-03T12:04:48.098Z"
   },
   {
    "duration": 6,
    "start_time": "2025-06-03T12:04:50.534Z"
   },
   {
    "duration": 5,
    "start_time": "2025-06-03T12:05:05.171Z"
   },
   {
    "duration": 4,
    "start_time": "2025-06-03T12:05:07.405Z"
   },
   {
    "duration": 10,
    "start_time": "2025-06-03T12:05:12.698Z"
   },
   {
    "duration": 6,
    "start_time": "2025-06-03T12:05:27.432Z"
   },
   {
    "duration": 10,
    "start_time": "2025-06-03T12:10:44.957Z"
   },
   {
    "duration": 11,
    "start_time": "2025-06-03T12:12:48.796Z"
   },
   {
    "duration": 5,
    "start_time": "2025-06-03T12:13:22.986Z"
   },
   {
    "duration": 3,
    "start_time": "2025-06-03T12:13:29.339Z"
   },
   {
    "duration": 10,
    "start_time": "2025-06-03T12:19:14.471Z"
   },
   {
    "duration": 3,
    "start_time": "2025-06-03T12:19:20.811Z"
   },
   {
    "duration": 3,
    "start_time": "2025-06-03T12:19:22.122Z"
   },
   {
    "duration": 295,
    "start_time": "2025-06-03T12:19:24.244Z"
   },
   {
    "duration": 10,
    "start_time": "2025-06-03T12:21:41.657Z"
   },
   {
    "duration": 3,
    "start_time": "2025-06-03T12:23:37.182Z"
   },
   {
    "duration": 3,
    "start_time": "2025-06-03T12:23:43.071Z"
   },
   {
    "duration": 205,
    "start_time": "2025-06-03T12:23:44.877Z"
   },
   {
    "duration": 10,
    "start_time": "2025-06-03T12:23:50.175Z"
   },
   {
    "duration": 9,
    "start_time": "2025-06-03T12:33:00.606Z"
   },
   {
    "duration": 15,
    "start_time": "2025-06-03T12:33:03.490Z"
   },
   {
    "duration": 5257,
    "start_time": "2025-06-03T12:33:35.027Z"
   },
   {
    "duration": 1301,
    "start_time": "2025-06-03T12:33:40.286Z"
   },
   {
    "duration": 38,
    "start_time": "2025-06-03T12:33:41.589Z"
   },
   {
    "duration": 17,
    "start_time": "2025-06-03T12:33:41.629Z"
   },
   {
    "duration": 4,
    "start_time": "2025-06-03T12:33:41.648Z"
   },
   {
    "duration": 12,
    "start_time": "2025-06-03T12:33:41.653Z"
   },
   {
    "duration": 13,
    "start_time": "2025-06-03T12:33:41.667Z"
   },
   {
    "duration": 66,
    "start_time": "2025-06-03T12:33:41.681Z"
   },
   {
    "duration": 7,
    "start_time": "2025-06-03T12:33:41.748Z"
   },
   {
    "duration": 432,
    "start_time": "2025-06-03T12:33:41.756Z"
   },
   {
    "duration": 8,
    "start_time": "2025-06-03T12:33:42.189Z"
   },
   {
    "duration": 261,
    "start_time": "2025-06-03T12:33:42.199Z"
   },
   {
    "duration": 3,
    "start_time": "2025-06-03T12:33:42.462Z"
   },
   {
    "duration": 31,
    "start_time": "2025-06-03T12:33:42.468Z"
   },
   {
    "duration": 13,
    "start_time": "2025-06-03T12:33:42.501Z"
   },
   {
    "duration": 23,
    "start_time": "2025-06-03T12:33:42.516Z"
   },
   {
    "duration": 9,
    "start_time": "2025-06-03T12:33:42.540Z"
   },
   {
    "duration": 3,
    "start_time": "2025-06-03T12:33:42.550Z"
   },
   {
    "duration": 3,
    "start_time": "2025-06-03T12:33:42.555Z"
   },
   {
    "duration": 10,
    "start_time": "2025-06-03T12:33:42.559Z"
   },
   {
    "duration": 5,
    "start_time": "2025-06-03T12:33:42.570Z"
   },
   {
    "duration": 4,
    "start_time": "2025-06-03T12:33:42.576Z"
   },
   {
    "duration": 14,
    "start_time": "2025-06-03T12:33:42.582Z"
   },
   {
    "duration": 14,
    "start_time": "2025-06-03T12:33:42.597Z"
   },
   {
    "duration": 33,
    "start_time": "2025-06-03T12:33:42.612Z"
   },
   {
    "duration": 72,
    "start_time": "2025-06-03T12:33:42.647Z"
   },
   {
    "duration": 14,
    "start_time": "2025-06-03T12:33:42.721Z"
   },
   {
    "duration": 233,
    "start_time": "2025-06-03T12:33:42.736Z"
   },
   {
    "duration": 8,
    "start_time": "2025-06-03T12:33:42.971Z"
   },
   {
    "duration": 5784,
    "start_time": "2025-06-03T12:34:27.766Z"
   },
   {
    "duration": 1477,
    "start_time": "2025-06-03T12:34:33.553Z"
   },
   {
    "duration": 41,
    "start_time": "2025-06-03T12:34:35.032Z"
   },
   {
    "duration": 19,
    "start_time": "2025-06-03T12:34:35.075Z"
   },
   {
    "duration": 4,
    "start_time": "2025-06-03T12:34:35.096Z"
   },
   {
    "duration": 40,
    "start_time": "2025-06-03T12:34:35.101Z"
   },
   {
    "duration": 29,
    "start_time": "2025-06-03T12:34:35.143Z"
   },
   {
    "duration": 60,
    "start_time": "2025-06-03T12:34:35.175Z"
   },
   {
    "duration": 8,
    "start_time": "2025-06-03T12:34:35.237Z"
   },
   {
    "duration": 530,
    "start_time": "2025-06-03T12:34:35.246Z"
   },
   {
    "duration": 8,
    "start_time": "2025-06-03T12:34:35.778Z"
   },
   {
    "duration": 303,
    "start_time": "2025-06-03T12:34:35.787Z"
   },
   {
    "duration": 5,
    "start_time": "2025-06-03T12:34:36.092Z"
   },
   {
    "duration": 86,
    "start_time": "2025-06-03T12:34:36.100Z"
   },
   {
    "duration": 5,
    "start_time": "2025-06-03T12:34:36.188Z"
   },
   {
    "duration": 63,
    "start_time": "2025-06-03T12:34:36.195Z"
   },
   {
    "duration": 49,
    "start_time": "2025-06-03T12:34:36.260Z"
   },
   {
    "duration": 108,
    "start_time": "2025-06-03T12:34:36.311Z"
   },
   {
    "duration": 32,
    "start_time": "2025-06-03T12:34:36.421Z"
   },
   {
    "duration": 27,
    "start_time": "2025-06-03T12:34:36.455Z"
   },
   {
    "duration": 33,
    "start_time": "2025-06-03T12:34:36.484Z"
   },
   {
    "duration": 15,
    "start_time": "2025-06-03T12:34:36.519Z"
   },
   {
    "duration": 11,
    "start_time": "2025-06-03T12:34:36.536Z"
   },
   {
    "duration": 28,
    "start_time": "2025-06-03T12:34:36.549Z"
   },
   {
    "duration": 8,
    "start_time": "2025-06-03T12:34:36.579Z"
   },
   {
    "duration": 5,
    "start_time": "2025-06-03T12:34:36.589Z"
   },
   {
    "duration": 24,
    "start_time": "2025-06-03T12:34:36.595Z"
   },
   {
    "duration": 355,
    "start_time": "2025-06-03T12:34:36.621Z"
   },
   {
    "duration": 65,
    "start_time": "2025-06-03T12:34:36.978Z"
   },
   {
    "duration": 5787,
    "start_time": "2025-06-03T12:34:58.180Z"
   },
   {
    "duration": 1363,
    "start_time": "2025-06-03T12:35:03.970Z"
   },
   {
    "duration": 40,
    "start_time": "2025-06-03T12:35:05.335Z"
   },
   {
    "duration": 55,
    "start_time": "2025-06-03T12:35:05.377Z"
   },
   {
    "duration": 42,
    "start_time": "2025-06-03T12:35:05.434Z"
   },
   {
    "duration": 60,
    "start_time": "2025-06-03T12:35:05.477Z"
   },
   {
    "duration": 112,
    "start_time": "2025-06-03T12:35:05.539Z"
   },
   {
    "duration": 174,
    "start_time": "2025-06-03T12:35:05.652Z"
   },
   {
    "duration": 94,
    "start_time": "2025-06-03T12:35:05.827Z"
   },
   {
    "duration": 662,
    "start_time": "2025-06-03T12:35:05.922Z"
   },
   {
    "duration": 6,
    "start_time": "2025-06-03T12:35:06.586Z"
   },
   {
    "duration": 364,
    "start_time": "2025-06-03T12:35:06.594Z"
   },
   {
    "duration": 5,
    "start_time": "2025-06-03T12:35:06.959Z"
   },
   {
    "duration": 181,
    "start_time": "2025-06-03T12:35:06.969Z"
   },
   {
    "duration": 53,
    "start_time": "2025-06-03T12:35:07.153Z"
   },
   {
    "duration": 61,
    "start_time": "2025-06-03T12:35:07.209Z"
   },
   {
    "duration": 18,
    "start_time": "2025-06-03T12:35:07.273Z"
   },
   {
    "duration": 15,
    "start_time": "2025-06-03T12:35:07.294Z"
   },
   {
    "duration": 54,
    "start_time": "2025-06-03T12:35:07.312Z"
   },
   {
    "duration": 37,
    "start_time": "2025-06-03T12:35:07.369Z"
   },
   {
    "duration": 71,
    "start_time": "2025-06-03T12:35:07.409Z"
   },
   {
    "duration": 46,
    "start_time": "2025-06-03T12:35:07.482Z"
   },
   {
    "duration": 34,
    "start_time": "2025-06-03T12:35:07.531Z"
   },
   {
    "duration": 19,
    "start_time": "2025-06-03T12:35:07.568Z"
   },
   {
    "duration": 4,
    "start_time": "2025-06-03T12:35:07.590Z"
   },
   {
    "duration": 28,
    "start_time": "2025-06-03T12:35:07.596Z"
   },
   {
    "duration": 16,
    "start_time": "2025-06-03T12:35:07.627Z"
   },
   {
    "duration": 520,
    "start_time": "2025-06-03T12:35:07.645Z"
   },
   {
    "duration": 79,
    "start_time": "2025-06-03T12:35:08.167Z"
   },
   {
    "duration": 5511,
    "start_time": "2025-06-03T12:35:35.660Z"
   },
   {
    "duration": 1323,
    "start_time": "2025-06-03T12:35:41.173Z"
   },
   {
    "duration": 38,
    "start_time": "2025-06-03T12:35:42.498Z"
   },
   {
    "duration": 16,
    "start_time": "2025-06-03T12:35:42.538Z"
   },
   {
    "duration": 4,
    "start_time": "2025-06-03T12:35:42.556Z"
   },
   {
    "duration": 20,
    "start_time": "2025-06-03T12:35:42.562Z"
   },
   {
    "duration": 13,
    "start_time": "2025-06-03T12:35:42.584Z"
   },
   {
    "duration": 69,
    "start_time": "2025-06-03T12:35:42.599Z"
   },
   {
    "duration": 57,
    "start_time": "2025-06-03T12:35:42.670Z"
   },
   {
    "duration": 441,
    "start_time": "2025-06-03T12:35:42.729Z"
   },
   {
    "duration": 7,
    "start_time": "2025-06-03T12:35:43.172Z"
   },
   {
    "duration": 287,
    "start_time": "2025-06-03T12:35:43.181Z"
   },
   {
    "duration": 6,
    "start_time": "2025-06-03T12:35:43.470Z"
   },
   {
    "duration": 82,
    "start_time": "2025-06-03T12:35:43.479Z"
   },
   {
    "duration": 31,
    "start_time": "2025-06-03T12:35:43.563Z"
   },
   {
    "duration": 109,
    "start_time": "2025-06-03T12:35:43.596Z"
   },
   {
    "duration": 17,
    "start_time": "2025-06-03T12:35:43.707Z"
   },
   {
    "duration": 26,
    "start_time": "2025-06-03T12:35:43.725Z"
   },
   {
    "duration": 51,
    "start_time": "2025-06-03T12:35:43.752Z"
   },
   {
    "duration": 40,
    "start_time": "2025-06-03T12:35:43.804Z"
   },
   {
    "duration": 52,
    "start_time": "2025-06-03T12:35:43.845Z"
   },
   {
    "duration": 24,
    "start_time": "2025-06-03T12:35:43.899Z"
   },
   {
    "duration": 120,
    "start_time": "2025-06-03T12:35:43.925Z"
   },
   {
    "duration": 62,
    "start_time": "2025-06-03T12:35:44.047Z"
   },
   {
    "duration": 128,
    "start_time": "2025-06-03T12:35:44.111Z"
   },
   {
    "duration": 128,
    "start_time": "2025-06-03T12:35:44.241Z"
   },
   {
    "duration": 126,
    "start_time": "2025-06-03T12:35:44.371Z"
   },
   {
    "duration": 451,
    "start_time": "2025-06-03T12:35:44.499Z"
   },
   {
    "duration": 11,
    "start_time": "2025-06-03T12:35:44.952Z"
   },
   {
    "duration": 5440,
    "start_time": "2025-06-03T12:36:10.669Z"
   },
   {
    "duration": 1328,
    "start_time": "2025-06-03T12:36:16.111Z"
   },
   {
    "duration": 40,
    "start_time": "2025-06-03T12:36:17.441Z"
   },
   {
    "duration": 17,
    "start_time": "2025-06-03T12:36:17.482Z"
   },
   {
    "duration": 5,
    "start_time": "2025-06-03T12:36:17.501Z"
   },
   {
    "duration": 11,
    "start_time": "2025-06-03T12:36:17.507Z"
   },
   {
    "duration": 36,
    "start_time": "2025-06-03T12:36:17.519Z"
   },
   {
    "duration": 80,
    "start_time": "2025-06-03T12:36:17.559Z"
   },
   {
    "duration": 8,
    "start_time": "2025-06-03T12:36:17.641Z"
   },
   {
    "duration": 461,
    "start_time": "2025-06-03T12:36:17.651Z"
   },
   {
    "duration": 7,
    "start_time": "2025-06-03T12:36:18.113Z"
   },
   {
    "duration": 344,
    "start_time": "2025-06-03T12:36:18.121Z"
   },
   {
    "duration": 5,
    "start_time": "2025-06-03T12:36:18.466Z"
   },
   {
    "duration": 18,
    "start_time": "2025-06-03T12:36:18.473Z"
   },
   {
    "duration": 5,
    "start_time": "2025-06-03T12:36:18.493Z"
   },
   {
    "duration": 53,
    "start_time": "2025-06-03T12:36:18.499Z"
   },
   {
    "duration": 9,
    "start_time": "2025-06-03T12:36:18.554Z"
   },
   {
    "duration": 3,
    "start_time": "2025-06-03T12:36:18.564Z"
   },
   {
    "duration": 17,
    "start_time": "2025-06-03T12:36:18.569Z"
   },
   {
    "duration": 7,
    "start_time": "2025-06-03T12:36:18.587Z"
   },
   {
    "duration": 5,
    "start_time": "2025-06-03T12:36:18.595Z"
   },
   {
    "duration": 37,
    "start_time": "2025-06-03T12:36:18.602Z"
   },
   {
    "duration": 57,
    "start_time": "2025-06-03T12:36:18.641Z"
   },
   {
    "duration": 20,
    "start_time": "2025-06-03T12:36:18.700Z"
   },
   {
    "duration": 14,
    "start_time": "2025-06-03T12:36:18.721Z"
   },
   {
    "duration": 9,
    "start_time": "2025-06-03T12:36:18.736Z"
   },
   {
    "duration": 7,
    "start_time": "2025-06-03T12:36:18.746Z"
   },
   {
    "duration": 2089,
    "start_time": "2025-06-03T12:36:18.754Z"
   },
   {
    "duration": 109,
    "start_time": "2025-06-03T12:36:20.846Z"
   },
   {
    "duration": 5664,
    "start_time": "2025-06-03T12:37:00.337Z"
   },
   {
    "duration": 1423,
    "start_time": "2025-06-03T12:37:06.004Z"
   },
   {
    "duration": 40,
    "start_time": "2025-06-03T12:37:07.428Z"
   },
   {
    "duration": 17,
    "start_time": "2025-06-03T12:37:07.471Z"
   },
   {
    "duration": 16,
    "start_time": "2025-06-03T12:37:07.489Z"
   },
   {
    "duration": 54,
    "start_time": "2025-06-03T12:37:07.507Z"
   },
   {
    "duration": 21,
    "start_time": "2025-06-03T12:37:07.564Z"
   },
   {
    "duration": 65,
    "start_time": "2025-06-03T12:37:07.588Z"
   },
   {
    "duration": 6,
    "start_time": "2025-06-03T12:37:07.655Z"
   },
   {
    "duration": 500,
    "start_time": "2025-06-03T12:37:07.664Z"
   },
   {
    "duration": 7,
    "start_time": "2025-06-03T12:37:08.166Z"
   },
   {
    "duration": 334,
    "start_time": "2025-06-03T12:37:08.175Z"
   },
   {
    "duration": 4,
    "start_time": "2025-06-03T12:37:08.511Z"
   },
   {
    "duration": 63,
    "start_time": "2025-06-03T12:37:08.516Z"
   },
   {
    "duration": 13,
    "start_time": "2025-06-03T12:37:08.581Z"
   },
   {
    "duration": 63,
    "start_time": "2025-06-03T12:37:08.596Z"
   },
   {
    "duration": 75,
    "start_time": "2025-06-03T12:37:08.661Z"
   },
   {
    "duration": 19,
    "start_time": "2025-06-03T12:37:08.738Z"
   },
   {
    "duration": 16,
    "start_time": "2025-06-03T12:37:08.759Z"
   },
   {
    "duration": 11,
    "start_time": "2025-06-03T12:37:08.778Z"
   },
   {
    "duration": 7,
    "start_time": "2025-06-03T12:37:08.791Z"
   },
   {
    "duration": 15,
    "start_time": "2025-06-03T12:37:08.800Z"
   },
   {
    "duration": 19,
    "start_time": "2025-06-03T12:37:08.817Z"
   },
   {
    "duration": 6,
    "start_time": "2025-06-03T12:37:08.838Z"
   },
   {
    "duration": 11,
    "start_time": "2025-06-03T12:37:08.846Z"
   },
   {
    "duration": 8,
    "start_time": "2025-06-03T12:37:08.858Z"
   },
   {
    "duration": 6,
    "start_time": "2025-06-03T12:37:08.867Z"
   },
   {
    "duration": 2664,
    "start_time": "2025-06-03T12:37:08.876Z"
   },
   {
    "duration": 93,
    "start_time": "2025-06-03T12:37:11.546Z"
   },
   {
    "duration": 5596,
    "start_time": "2025-06-03T12:37:42.730Z"
   },
   {
    "duration": 1335,
    "start_time": "2025-06-03T12:37:48.330Z"
   },
   {
    "duration": 40,
    "start_time": "2025-06-03T12:37:49.666Z"
   },
   {
    "duration": 18,
    "start_time": "2025-06-03T12:37:49.708Z"
   },
   {
    "duration": 13,
    "start_time": "2025-06-03T12:37:49.727Z"
   },
   {
    "duration": 8,
    "start_time": "2025-06-03T12:37:49.742Z"
   },
   {
    "duration": 15,
    "start_time": "2025-06-03T12:37:49.752Z"
   },
   {
    "duration": 78,
    "start_time": "2025-06-03T12:37:49.769Z"
   },
   {
    "duration": 7,
    "start_time": "2025-06-03T12:37:49.848Z"
   },
   {
    "duration": 475,
    "start_time": "2025-06-03T12:37:49.857Z"
   },
   {
    "duration": 7,
    "start_time": "2025-06-03T12:37:50.334Z"
   },
   {
    "duration": 398,
    "start_time": "2025-06-03T12:37:50.343Z"
   },
   {
    "duration": 4,
    "start_time": "2025-06-03T12:37:50.744Z"
   },
   {
    "duration": 25,
    "start_time": "2025-06-03T12:37:50.750Z"
   },
   {
    "duration": 4,
    "start_time": "2025-06-03T12:37:50.777Z"
   },
   {
    "duration": 20,
    "start_time": "2025-06-03T12:37:50.783Z"
   },
   {
    "duration": 37,
    "start_time": "2025-06-03T12:37:50.804Z"
   },
   {
    "duration": 5,
    "start_time": "2025-06-03T12:37:50.844Z"
   },
   {
    "duration": 12,
    "start_time": "2025-06-03T12:37:50.852Z"
   },
   {
    "duration": 9,
    "start_time": "2025-06-03T12:37:50.866Z"
   },
   {
    "duration": 48,
    "start_time": "2025-06-03T12:37:50.877Z"
   },
   {
    "duration": 6,
    "start_time": "2025-06-03T12:37:50.927Z"
   },
   {
    "duration": 135,
    "start_time": "2025-06-03T12:37:50.936Z"
   },
   {
    "duration": 13,
    "start_time": "2025-06-03T12:37:51.072Z"
   },
   {
    "duration": 15,
    "start_time": "2025-06-03T12:37:51.087Z"
   },
   {
    "duration": 13,
    "start_time": "2025-06-03T12:37:51.104Z"
   },
   {
    "duration": 12,
    "start_time": "2025-06-03T12:37:51.118Z"
   },
   {
    "duration": 247,
    "start_time": "2025-06-03T12:37:51.135Z"
   },
   {
    "duration": 64,
    "start_time": "2025-06-03T12:37:51.384Z"
   },
   {
    "duration": 5406,
    "start_time": "2025-06-03T12:38:20.527Z"
   },
   {
    "duration": 1404,
    "start_time": "2025-06-03T12:38:25.935Z"
   },
   {
    "duration": 42,
    "start_time": "2025-06-03T12:38:27.340Z"
   },
   {
    "duration": 23,
    "start_time": "2025-06-03T12:38:27.384Z"
   },
   {
    "duration": 5,
    "start_time": "2025-06-03T12:38:27.409Z"
   },
   {
    "duration": 29,
    "start_time": "2025-06-03T12:38:27.417Z"
   },
   {
    "duration": 20,
    "start_time": "2025-06-03T12:38:27.449Z"
   },
   {
    "duration": 83,
    "start_time": "2025-06-03T12:38:27.472Z"
   },
   {
    "duration": 10,
    "start_time": "2025-06-03T12:38:27.557Z"
   },
   {
    "duration": 537,
    "start_time": "2025-06-03T12:38:27.571Z"
   },
   {
    "duration": 9,
    "start_time": "2025-06-03T12:38:28.110Z"
   },
   {
    "duration": 376,
    "start_time": "2025-06-03T12:38:28.122Z"
   },
   {
    "duration": 5,
    "start_time": "2025-06-03T12:38:28.500Z"
   },
   {
    "duration": 32,
    "start_time": "2025-06-03T12:38:28.507Z"
   },
   {
    "duration": 11,
    "start_time": "2025-06-03T12:38:28.541Z"
   },
   {
    "duration": 22,
    "start_time": "2025-06-03T12:38:28.554Z"
   },
   {
    "duration": 21,
    "start_time": "2025-06-03T12:38:28.579Z"
   },
   {
    "duration": 4,
    "start_time": "2025-06-03T12:38:28.602Z"
   },
   {
    "duration": 32,
    "start_time": "2025-06-03T12:38:28.607Z"
   },
   {
    "duration": 78,
    "start_time": "2025-06-03T12:38:28.642Z"
   },
   {
    "duration": 5,
    "start_time": "2025-06-03T12:38:28.723Z"
   },
   {
    "duration": 21,
    "start_time": "2025-06-03T12:38:28.730Z"
   },
   {
    "duration": 9,
    "start_time": "2025-06-03T12:38:28.754Z"
   },
   {
    "duration": 13,
    "start_time": "2025-06-03T12:38:28.765Z"
   },
   {
    "duration": 10,
    "start_time": "2025-06-03T12:38:28.779Z"
   },
   {
    "duration": 33,
    "start_time": "2025-06-03T12:38:28.791Z"
   },
   {
    "duration": 5,
    "start_time": "2025-06-03T12:38:28.826Z"
   },
   {
    "duration": 251,
    "start_time": "2025-06-03T12:38:28.834Z"
   },
   {
    "duration": 61,
    "start_time": "2025-06-03T12:38:29.086Z"
   },
   {
    "duration": 6092,
    "start_time": "2025-06-03T12:38:55.668Z"
   },
   {
    "duration": 1406,
    "start_time": "2025-06-03T12:39:01.762Z"
   },
   {
    "duration": 41,
    "start_time": "2025-06-03T12:39:03.170Z"
   },
   {
    "duration": 18,
    "start_time": "2025-06-03T12:39:03.213Z"
   },
   {
    "duration": 12,
    "start_time": "2025-06-03T12:39:03.234Z"
   },
   {
    "duration": 21,
    "start_time": "2025-06-03T12:39:03.247Z"
   },
   {
    "duration": 31,
    "start_time": "2025-06-03T12:39:03.270Z"
   },
   {
    "duration": 88,
    "start_time": "2025-06-03T12:39:03.303Z"
   },
   {
    "duration": 7,
    "start_time": "2025-06-03T12:39:03.393Z"
   },
   {
    "duration": 503,
    "start_time": "2025-06-03T12:39:03.401Z"
   },
   {
    "duration": 7,
    "start_time": "2025-06-03T12:39:03.906Z"
   },
   {
    "duration": 357,
    "start_time": "2025-06-03T12:39:03.915Z"
   },
   {
    "duration": 5,
    "start_time": "2025-06-03T12:39:04.275Z"
   },
   {
    "duration": 210,
    "start_time": "2025-06-03T12:39:04.283Z"
   },
   {
    "duration": 4,
    "start_time": "2025-06-03T12:39:04.495Z"
   },
   {
    "duration": 44,
    "start_time": "2025-06-03T12:39:04.501Z"
   },
   {
    "duration": 10,
    "start_time": "2025-06-03T12:39:04.547Z"
   },
   {
    "duration": 9,
    "start_time": "2025-06-03T12:39:04.558Z"
   },
   {
    "duration": 20,
    "start_time": "2025-06-03T12:39:04.569Z"
   },
   {
    "duration": 111,
    "start_time": "2025-06-03T12:39:04.591Z"
   },
   {
    "duration": 43,
    "start_time": "2025-06-03T12:39:04.704Z"
   },
   {
    "duration": 36,
    "start_time": "2025-06-03T12:39:04.748Z"
   },
   {
    "duration": 17,
    "start_time": "2025-06-03T12:39:04.786Z"
   },
   {
    "duration": 34,
    "start_time": "2025-06-03T12:39:04.804Z"
   },
   {
    "duration": 16,
    "start_time": "2025-06-03T12:39:04.839Z"
   },
   {
    "duration": 12,
    "start_time": "2025-06-03T12:39:04.857Z"
   },
   {
    "duration": 19,
    "start_time": "2025-06-03T12:39:04.871Z"
   },
   {
    "duration": 275,
    "start_time": "2025-06-03T12:39:04.892Z"
   },
   {
    "duration": 9,
    "start_time": "2025-06-03T12:39:05.169Z"
   },
   {
    "duration": 131,
    "start_time": "2025-06-03T12:46:51.579Z"
   },
   {
    "duration": 2,
    "start_time": "2025-06-03T12:47:03.733Z"
   },
   {
    "duration": 3,
    "start_time": "2025-06-03T12:55:05.008Z"
   },
   {
    "duration": 3,
    "start_time": "2025-06-03T12:55:43.105Z"
   },
   {
    "duration": 3,
    "start_time": "2025-06-03T12:55:46.533Z"
   },
   {
    "duration": 4,
    "start_time": "2025-06-03T12:56:58.939Z"
   },
   {
    "duration": 66,
    "start_time": "2025-06-03T12:58:30.580Z"
   },
   {
    "duration": 169311,
    "start_time": "2025-06-03T12:59:01.230Z"
   },
   {
    "duration": 34341,
    "start_time": "2025-06-03T13:02:49.907Z"
   },
   {
    "duration": 12,
    "start_time": "2025-06-03T13:06:05.653Z"
   },
   {
    "duration": 3,
    "start_time": "2025-06-03T13:30:41.736Z"
   },
   {
    "duration": 4,
    "start_time": "2025-06-03T13:37:14.784Z"
   },
   {
    "duration": 3,
    "start_time": "2025-06-03T13:38:04.734Z"
   },
   {
    "duration": 125,
    "start_time": "2025-06-03T13:40:25.770Z"
   },
   {
    "duration": 451857,
    "start_time": "2025-06-03T13:40:45.860Z"
   },
   {
    "duration": 3,
    "start_time": "2025-06-03T13:48:21.476Z"
   },
   {
    "duration": 59614,
    "start_time": "2025-06-03T13:48:23.539Z"
   },
   {
    "duration": 0,
    "start_time": "2025-06-03T13:49:23.155Z"
   },
   {
    "duration": 3,
    "start_time": "2025-06-03T13:49:24.186Z"
   },
   {
    "duration": 3,
    "start_time": "2025-06-03T13:49:25.905Z"
   },
   {
    "duration": 127351,
    "start_time": "2025-06-03T13:49:27.517Z"
   },
   {
    "duration": 2,
    "start_time": "2025-06-03T13:51:47.728Z"
   },
   {
    "duration": 2,
    "start_time": "2025-06-03T13:51:48.932Z"
   },
   {
    "duration": 61885,
    "start_time": "2025-06-03T13:51:50.420Z"
   },
   {
    "duration": 0,
    "start_time": "2025-06-03T13:52:52.307Z"
   },
   {
    "duration": 3,
    "start_time": "2025-06-03T13:52:54.572Z"
   },
   {
    "duration": 1165,
    "start_time": "2025-06-03T13:53:57.973Z"
   },
   {
    "duration": 5,
    "start_time": "2025-06-03T13:54:03.629Z"
   },
   {
    "duration": 6,
    "start_time": "2025-06-03T13:54:46.333Z"
   },
   {
    "duration": 3,
    "start_time": "2025-06-03T13:55:13.316Z"
   },
   {
    "duration": 5296,
    "start_time": "2025-06-03T13:55:17.513Z"
   },
   {
    "duration": 6,
    "start_time": "2025-06-03T13:55:26.363Z"
   },
   {
    "duration": 5,
    "start_time": "2025-06-03T13:55:28.694Z"
   },
   {
    "duration": 2,
    "start_time": "2025-06-03T13:56:12.859Z"
   },
   {
    "duration": 3,
    "start_time": "2025-06-03T13:56:15.879Z"
   },
   {
    "duration": 262081,
    "start_time": "2025-06-03T13:56:32.900Z"
   },
   {
    "duration": 2,
    "start_time": "2025-06-03T14:01:02.106Z"
   },
   {
    "duration": 3,
    "start_time": "2025-06-03T14:01:04.762Z"
   },
   {
    "duration": 65755,
    "start_time": "2025-06-03T14:01:09.305Z"
   },
   {
    "duration": 3,
    "start_time": "2025-06-03T14:02:27.663Z"
   },
   {
    "duration": 2,
    "start_time": "2025-06-03T14:02:29.938Z"
   },
   {
    "duration": 3,
    "start_time": "2025-06-03T14:02:31.407Z"
   },
   {
    "duration": 26116,
    "start_time": "2025-06-03T14:02:33.633Z"
   },
   {
    "duration": 2,
    "start_time": "2025-06-03T14:03:05.907Z"
   },
   {
    "duration": 2,
    "start_time": "2025-06-03T14:03:14.162Z"
   },
   {
    "duration": 3,
    "start_time": "2025-06-03T14:03:16.174Z"
   },
   {
    "duration": 62355,
    "start_time": "2025-06-03T14:03:18.827Z"
   },
   {
    "duration": 3,
    "start_time": "2025-06-03T14:04:34.334Z"
   },
   {
    "duration": 3,
    "start_time": "2025-06-03T14:04:35.974Z"
   },
   {
    "duration": 3,
    "start_time": "2025-06-03T14:04:37.265Z"
   },
   {
    "duration": 813367,
    "start_time": "2025-06-03T14:04:40.953Z"
   },
   {
    "duration": 6,
    "start_time": "2025-06-03T14:19:19.217Z"
   },
   {
    "duration": 3,
    "start_time": "2025-06-03T14:20:42.323Z"
   },
   {
    "duration": 1679,
    "start_time": "2025-06-03T14:23:43.445Z"
   },
   {
    "duration": 4,
    "start_time": "2025-06-03T14:24:01.823Z"
   },
   {
    "duration": 1691,
    "start_time": "2025-06-03T14:24:05.228Z"
   },
   {
    "duration": 6,
    "start_time": "2025-06-03T14:24:20.236Z"
   },
   {
    "duration": 7,
    "start_time": "2025-06-03T14:34:00.255Z"
   },
   {
    "duration": 153,
    "start_time": "2025-06-03T14:40:52.323Z"
   },
   {
    "duration": 5,
    "start_time": "2025-06-03T14:40:57.836Z"
   },
   {
    "duration": 8,
    "start_time": "2025-06-03T14:43:20.846Z"
   },
   {
    "duration": 16,
    "start_time": "2025-06-03T14:43:22.834Z"
   },
   {
    "duration": 7,
    "start_time": "2025-06-03T14:43:24.741Z"
   },
   {
    "duration": 5660,
    "start_time": "2025-06-03T14:53:57.263Z"
   },
   {
    "duration": 1403,
    "start_time": "2025-06-03T14:54:02.925Z"
   },
   {
    "duration": 43,
    "start_time": "2025-06-03T14:54:04.330Z"
   },
   {
    "duration": 61,
    "start_time": "2025-06-03T14:54:04.375Z"
   },
   {
    "duration": 5,
    "start_time": "2025-06-03T14:54:04.437Z"
   },
   {
    "duration": 27,
    "start_time": "2025-06-03T14:54:04.444Z"
   },
   {
    "duration": 19,
    "start_time": "2025-06-03T14:54:04.473Z"
   },
   {
    "duration": 47,
    "start_time": "2025-06-03T14:54:04.494Z"
   },
   {
    "duration": 6,
    "start_time": "2025-06-03T14:54:04.543Z"
   },
   {
    "duration": 484,
    "start_time": "2025-06-03T14:54:04.552Z"
   },
   {
    "duration": 7,
    "start_time": "2025-06-03T14:54:05.037Z"
   },
   {
    "duration": 490,
    "start_time": "2025-06-03T14:54:05.045Z"
   },
   {
    "duration": 4,
    "start_time": "2025-06-03T14:54:05.539Z"
   },
   {
    "duration": 45,
    "start_time": "2025-06-03T14:54:05.545Z"
   },
   {
    "duration": 14,
    "start_time": "2025-06-03T14:54:05.592Z"
   },
   {
    "duration": 46,
    "start_time": "2025-06-03T14:54:05.607Z"
   },
   {
    "duration": 8,
    "start_time": "2025-06-03T14:54:05.655Z"
   },
   {
    "duration": 28,
    "start_time": "2025-06-03T14:54:05.664Z"
   },
   {
    "duration": 21,
    "start_time": "2025-06-03T14:54:05.694Z"
   },
   {
    "duration": 42,
    "start_time": "2025-06-03T14:54:05.717Z"
   },
   {
    "duration": 40,
    "start_time": "2025-06-03T14:54:05.760Z"
   },
   {
    "duration": 22,
    "start_time": "2025-06-03T14:54:05.802Z"
   },
   {
    "duration": 38,
    "start_time": "2025-06-03T14:54:05.826Z"
   },
   {
    "duration": 19,
    "start_time": "2025-06-03T14:54:05.866Z"
   },
   {
    "duration": 30,
    "start_time": "2025-06-03T14:54:05.887Z"
   },
   {
    "duration": 48,
    "start_time": "2025-06-03T14:54:05.919Z"
   },
   {
    "duration": 22,
    "start_time": "2025-06-03T14:54:05.969Z"
   },
   {
    "duration": 287,
    "start_time": "2025-06-03T14:54:05.996Z"
   },
   {
    "duration": 62,
    "start_time": "2025-06-03T14:54:06.285Z"
   },
   {
    "duration": 90,
    "start_time": "2025-06-03T14:54:06.349Z"
   },
   {
    "duration": 3,
    "start_time": "2025-06-03T14:54:06.441Z"
   },
   {
    "duration": 13,
    "start_time": "2025-06-03T14:54:06.446Z"
   },
   {
    "duration": 153,
    "start_time": "2025-06-03T14:54:06.461Z"
   },
   {
    "duration": 0,
    "start_time": "2025-06-03T14:54:06.615Z"
   },
   {
    "duration": 0,
    "start_time": "2025-06-03T14:54:06.616Z"
   },
   {
    "duration": 0,
    "start_time": "2025-06-03T14:54:06.618Z"
   },
   {
    "duration": 0,
    "start_time": "2025-06-03T14:54:06.619Z"
   },
   {
    "duration": 0,
    "start_time": "2025-06-03T14:54:06.620Z"
   },
   {
    "duration": 0,
    "start_time": "2025-06-03T14:54:06.621Z"
   },
   {
    "duration": 0,
    "start_time": "2025-06-03T14:54:06.622Z"
   },
   {
    "duration": 0,
    "start_time": "2025-06-03T14:54:06.623Z"
   },
   {
    "duration": 0,
    "start_time": "2025-06-03T14:54:06.625Z"
   },
   {
    "duration": 1,
    "start_time": "2025-06-03T14:54:06.625Z"
   },
   {
    "duration": 5601,
    "start_time": "2025-06-03T14:54:37.401Z"
   },
   {
    "duration": 1387,
    "start_time": "2025-06-03T14:54:43.005Z"
   },
   {
    "duration": 42,
    "start_time": "2025-06-03T14:54:44.394Z"
   },
   {
    "duration": 18,
    "start_time": "2025-06-03T14:54:44.437Z"
   },
   {
    "duration": 5,
    "start_time": "2025-06-03T14:54:44.457Z"
   },
   {
    "duration": 8,
    "start_time": "2025-06-03T14:54:44.464Z"
   },
   {
    "duration": 14,
    "start_time": "2025-06-03T14:54:44.473Z"
   },
   {
    "duration": 75,
    "start_time": "2025-06-03T14:54:44.489Z"
   },
   {
    "duration": 7,
    "start_time": "2025-06-03T14:54:44.566Z"
   },
   {
    "duration": 481,
    "start_time": "2025-06-03T14:54:44.575Z"
   },
   {
    "duration": 7,
    "start_time": "2025-06-03T14:54:45.057Z"
   },
   {
    "duration": 473,
    "start_time": "2025-06-03T14:54:45.066Z"
   },
   {
    "duration": 4,
    "start_time": "2025-06-03T14:54:45.540Z"
   },
   {
    "duration": 14,
    "start_time": "2025-06-03T14:54:45.546Z"
   },
   {
    "duration": 4,
    "start_time": "2025-06-03T14:54:45.562Z"
   },
   {
    "duration": 24,
    "start_time": "2025-06-03T14:54:45.568Z"
   },
   {
    "duration": 8,
    "start_time": "2025-06-03T14:54:45.594Z"
   },
   {
    "duration": 36,
    "start_time": "2025-06-03T14:54:45.603Z"
   },
   {
    "duration": 3,
    "start_time": "2025-06-03T14:54:45.641Z"
   },
   {
    "duration": 12,
    "start_time": "2025-06-03T14:54:45.645Z"
   },
   {
    "duration": 4,
    "start_time": "2025-06-03T14:54:45.659Z"
   },
   {
    "duration": 11,
    "start_time": "2025-06-03T14:54:45.665Z"
   },
   {
    "duration": 37,
    "start_time": "2025-06-03T14:54:45.677Z"
   },
   {
    "duration": 6,
    "start_time": "2025-06-03T14:54:45.716Z"
   },
   {
    "duration": 6,
    "start_time": "2025-06-03T14:54:45.724Z"
   },
   {
    "duration": 13,
    "start_time": "2025-06-03T14:54:45.731Z"
   },
   {
    "duration": 7,
    "start_time": "2025-06-03T14:54:45.746Z"
   },
   {
    "duration": 288,
    "start_time": "2025-06-03T14:54:45.757Z"
   },
   {
    "duration": 7,
    "start_time": "2025-06-03T14:54:46.047Z"
   },
   {
    "duration": 4,
    "start_time": "2025-06-03T14:54:46.056Z"
   },
   {
    "duration": 7,
    "start_time": "2025-06-03T14:54:46.062Z"
   },
   {
    "duration": 6,
    "start_time": "2025-06-03T14:54:46.071Z"
   },
   {
    "duration": 63270,
    "start_time": "2025-06-03T14:54:46.078Z"
   },
   {
    "duration": 0,
    "start_time": "2025-06-03T14:55:49.350Z"
   },
   {
    "duration": 0,
    "start_time": "2025-06-03T14:55:49.352Z"
   },
   {
    "duration": 0,
    "start_time": "2025-06-03T14:55:49.353Z"
   },
   {
    "duration": 0,
    "start_time": "2025-06-03T14:55:49.354Z"
   },
   {
    "duration": 0,
    "start_time": "2025-06-03T14:55:49.355Z"
   },
   {
    "duration": 0,
    "start_time": "2025-06-03T14:55:49.356Z"
   },
   {
    "duration": 0,
    "start_time": "2025-06-03T14:55:49.358Z"
   },
   {
    "duration": 0,
    "start_time": "2025-06-03T14:55:49.359Z"
   },
   {
    "duration": 0,
    "start_time": "2025-06-03T14:55:49.360Z"
   },
   {
    "duration": 0,
    "start_time": "2025-06-03T14:55:49.361Z"
   },
   {
    "duration": 103360,
    "start_time": "2025-06-03T14:56:03.480Z"
   },
   {
    "duration": 13,
    "start_time": "2025-06-03T14:58:02.726Z"
   },
   {
    "duration": 9,
    "start_time": "2025-06-03T14:58:09.520Z"
   },
   {
    "duration": 8,
    "start_time": "2025-06-03T14:58:11.626Z"
   },
   {
    "duration": 6,
    "start_time": "2025-06-03T15:00:28.642Z"
   },
   {
    "duration": 5,
    "start_time": "2025-06-03T15:01:08.210Z"
   },
   {
    "duration": 6,
    "start_time": "2025-06-03T15:01:34.209Z"
   },
   {
    "duration": 3,
    "start_time": "2025-06-03T15:01:45.009Z"
   },
   {
    "duration": 2,
    "start_time": "2025-06-03T15:01:46.497Z"
   },
   {
    "duration": 3,
    "start_time": "2025-06-03T15:01:48.321Z"
   },
   {
    "duration": 158,
    "start_time": "2025-06-03T15:01:54.619Z"
   },
   {
    "duration": 249,
    "start_time": "2025-06-03T15:02:03.929Z"
   },
   {
    "duration": 3,
    "start_time": "2025-06-03T15:02:21.453Z"
   },
   {
    "duration": 3,
    "start_time": "2025-06-03T15:02:22.459Z"
   },
   {
    "duration": 3,
    "start_time": "2025-06-03T15:02:24.977Z"
   },
   {
    "duration": 70486,
    "start_time": "2025-06-03T15:02:42.885Z"
   },
   {
    "duration": 4,
    "start_time": "2025-06-03T15:04:12.153Z"
   },
   {
    "duration": 3,
    "start_time": "2025-06-03T15:04:14.369Z"
   },
   {
    "duration": 4,
    "start_time": "2025-06-03T15:04:15.925Z"
   },
   {
    "duration": 20025,
    "start_time": "2025-06-03T15:04:17.889Z"
   },
   {
    "duration": 4,
    "start_time": "2025-06-03T15:04:44.916Z"
   },
   {
    "duration": 4,
    "start_time": "2025-06-03T15:04:46.864Z"
   },
   {
    "duration": 4,
    "start_time": "2025-06-03T15:04:48.031Z"
   },
   {
    "duration": 22304,
    "start_time": "2025-06-03T15:04:49.559Z"
   },
   {
    "duration": 5,
    "start_time": "2025-06-03T15:05:22.122Z"
   },
   {
    "duration": 8,
    "start_time": "2025-06-03T15:05:24.305Z"
   },
   {
    "duration": 16933,
    "start_time": "2025-06-03T15:07:12.435Z"
   },
   {
    "duration": 123,
    "start_time": "2025-06-03T15:08:31.385Z"
   },
   {
    "duration": 3,
    "start_time": "2025-06-03T15:08:48.787Z"
   },
   {
    "duration": 22,
    "start_time": "2025-06-03T15:11:16.293Z"
   },
   {
    "duration": 3,
    "start_time": "2025-06-03T15:11:48.264Z"
   },
   {
    "duration": 866,
    "start_time": "2025-06-03T15:11:53.186Z"
   },
   {
    "duration": 12,
    "start_time": "2025-06-03T15:19:35.571Z"
   },
   {
    "duration": 3,
    "start_time": "2025-06-03T15:19:38.728Z"
   },
   {
    "duration": 2148,
    "start_time": "2025-06-03T15:19:41.395Z"
   },
   {
    "duration": 4,
    "start_time": "2025-06-03T15:20:56.286Z"
   },
   {
    "duration": 3523,
    "start_time": "2025-06-03T15:21:00.221Z"
   },
   {
    "duration": 5,
    "start_time": "2025-06-03T15:25:58.108Z"
   },
   {
    "duration": 8,
    "start_time": "2025-06-03T15:26:00.059Z"
   },
   {
    "duration": 14,
    "start_time": "2025-06-03T15:26:01.431Z"
   },
   {
    "duration": 16,
    "start_time": "2025-06-03T15:26:07.303Z"
   },
   {
    "duration": 6,
    "start_time": "2025-06-03T15:26:10.822Z"
   },
   {
    "duration": 235,
    "start_time": "2025-06-03T15:26:35.117Z"
   },
   {
    "duration": 5,
    "start_time": "2025-06-03T15:58:50.928Z"
   },
   {
    "duration": 8883,
    "start_time": "2025-06-03T15:58:54.281Z"
   },
   {
    "duration": 66,
    "start_time": "2025-06-03T15:59:08.287Z"
   },
   {
    "duration": 3,
    "start_time": "2025-06-03T15:59:15.623Z"
   },
   {
    "duration": 3498,
    "start_time": "2025-06-03T15:59:17.761Z"
   },
   {
    "duration": 14,
    "start_time": "2025-06-03T15:59:28.952Z"
   },
   {
    "duration": 230,
    "start_time": "2025-06-03T16:04:24.414Z"
   },
   {
    "duration": 3,
    "start_time": "2025-06-03T16:04:37.405Z"
   },
   {
    "duration": 3,
    "start_time": "2025-06-03T16:04:43.551Z"
   },
   {
    "duration": 3,
    "start_time": "2025-06-03T16:04:45.570Z"
   },
   {
    "duration": 91495,
    "start_time": "2025-06-03T16:04:48.181Z"
   },
   {
    "duration": 39877,
    "start_time": "2025-06-03T16:06:34.015Z"
   },
   {
    "duration": 5516,
    "start_time": "2025-06-03T16:07:20.211Z"
   },
   {
    "duration": 1392,
    "start_time": "2025-06-03T16:07:25.729Z"
   },
   {
    "duration": 52,
    "start_time": "2025-06-03T16:07:27.123Z"
   },
   {
    "duration": 18,
    "start_time": "2025-06-03T16:07:27.177Z"
   },
   {
    "duration": 5,
    "start_time": "2025-06-03T16:07:27.196Z"
   },
   {
    "duration": 12,
    "start_time": "2025-06-03T16:07:27.203Z"
   },
   {
    "duration": 27,
    "start_time": "2025-06-03T16:07:27.217Z"
   },
   {
    "duration": 65,
    "start_time": "2025-06-03T16:07:27.246Z"
   },
   {
    "duration": 7,
    "start_time": "2025-06-03T16:07:27.313Z"
   },
   {
    "duration": 492,
    "start_time": "2025-06-03T16:07:27.324Z"
   },
   {
    "duration": 8,
    "start_time": "2025-06-03T16:07:27.818Z"
   },
   {
    "duration": 256,
    "start_time": "2025-06-03T16:07:27.828Z"
   },
   {
    "duration": 5,
    "start_time": "2025-06-03T16:07:28.087Z"
   },
   {
    "duration": 53,
    "start_time": "2025-06-03T16:07:28.093Z"
   },
   {
    "duration": 5,
    "start_time": "2025-06-03T16:07:28.147Z"
   },
   {
    "duration": 31,
    "start_time": "2025-06-03T16:07:28.153Z"
   },
   {
    "duration": 10,
    "start_time": "2025-06-03T16:07:28.186Z"
   },
   {
    "duration": 8,
    "start_time": "2025-06-03T16:07:28.198Z"
   },
   {
    "duration": 12,
    "start_time": "2025-06-03T16:07:28.208Z"
   },
   {
    "duration": 5,
    "start_time": "2025-06-03T16:07:28.222Z"
   },
   {
    "duration": 10,
    "start_time": "2025-06-03T16:07:28.229Z"
   },
   {
    "duration": 23,
    "start_time": "2025-06-03T16:07:28.240Z"
   },
   {
    "duration": 14,
    "start_time": "2025-06-03T16:07:28.265Z"
   },
   {
    "duration": 20,
    "start_time": "2025-06-03T16:07:28.281Z"
   },
   {
    "duration": 8,
    "start_time": "2025-06-03T16:07:28.303Z"
   },
   {
    "duration": 7,
    "start_time": "2025-06-03T16:07:28.313Z"
   },
   {
    "duration": 12,
    "start_time": "2025-06-03T16:07:28.322Z"
   },
   {
    "duration": 3,
    "start_time": "2025-06-03T16:07:28.337Z"
   },
   {
    "duration": 15,
    "start_time": "2025-06-03T16:07:28.342Z"
   },
   {
    "duration": 228,
    "start_time": "2025-06-03T16:07:28.359Z"
   },
   {
    "duration": 52,
    "start_time": "2025-06-03T16:07:28.588Z"
   },
   {
    "duration": 21,
    "start_time": "2025-06-03T16:07:28.642Z"
   },
   {
    "duration": 14,
    "start_time": "2025-06-03T16:07:28.664Z"
   },
   {
    "duration": 80071,
    "start_time": "2025-06-03T16:07:28.680Z"
   },
   {
    "duration": 3,
    "start_time": "2025-06-03T16:08:48.840Z"
   },
   {
    "duration": 4612,
    "start_time": "2025-06-03T16:08:48.845Z"
   },
   {
    "duration": 3,
    "start_time": "2025-06-03T16:08:53.459Z"
   },
   {
    "duration": 1615,
    "start_time": "2025-06-03T16:08:53.540Z"
   },
   {
    "duration": 5,
    "start_time": "2025-06-03T16:08:55.156Z"
   },
   {
    "duration": 35,
    "start_time": "2025-06-03T16:08:55.162Z"
   },
   {
    "duration": 25,
    "start_time": "2025-06-03T16:08:55.198Z"
   },
   {
    "duration": 5,
    "start_time": "2025-06-03T16:08:55.239Z"
   },
   {
    "duration": 14,
    "start_time": "2025-06-03T16:11:09.630Z"
   },
   {
    "duration": 3,
    "start_time": "2025-06-03T16:11:36.323Z"
   },
   {
    "duration": 3,
    "start_time": "2025-06-03T16:12:32.801Z"
   },
   {
    "duration": 3,
    "start_time": "2025-06-03T16:12:34.485Z"
   },
   {
    "duration": 119,
    "start_time": "2025-06-03T16:12:44.921Z"
   },
   {
    "duration": 1035800,
    "start_time": "2025-06-03T16:12:54.689Z"
   },
   {
    "duration": 6,
    "start_time": "2025-06-03T16:34:19.140Z"
   },
   {
    "duration": 9,
    "start_time": "2025-06-03T16:34:27.856Z"
   },
   {
    "duration": 5,
    "start_time": "2025-06-03T16:34:30.002Z"
   },
   {
    "duration": 74912,
    "start_time": "2025-06-03T16:35:34.035Z"
   },
   {
    "duration": 5411,
    "start_time": "2025-06-03T16:37:27.001Z"
   },
   {
    "duration": 1426,
    "start_time": "2025-06-03T16:37:32.414Z"
   },
   {
    "duration": 43,
    "start_time": "2025-06-03T16:37:33.842Z"
   },
   {
    "duration": 17,
    "start_time": "2025-06-03T16:37:33.887Z"
   },
   {
    "duration": 12,
    "start_time": "2025-06-03T16:37:33.906Z"
   },
   {
    "duration": 15,
    "start_time": "2025-06-03T16:37:33.919Z"
   },
   {
    "duration": 23,
    "start_time": "2025-06-03T16:37:33.935Z"
   },
   {
    "duration": 65,
    "start_time": "2025-06-03T16:37:33.960Z"
   },
   {
    "duration": 7,
    "start_time": "2025-06-03T16:37:34.026Z"
   },
   {
    "duration": 476,
    "start_time": "2025-06-03T16:37:34.036Z"
   },
   {
    "duration": 9,
    "start_time": "2025-06-03T16:37:34.514Z"
   },
   {
    "duration": 348,
    "start_time": "2025-06-03T16:37:34.525Z"
   },
   {
    "duration": 6,
    "start_time": "2025-06-03T16:37:34.875Z"
   },
   {
    "duration": 85,
    "start_time": "2025-06-03T16:37:34.883Z"
   },
   {
    "duration": 17,
    "start_time": "2025-06-03T16:37:34.970Z"
   },
   {
    "duration": 56,
    "start_time": "2025-06-03T16:37:34.989Z"
   },
   {
    "duration": 8,
    "start_time": "2025-06-03T16:37:35.047Z"
   },
   {
    "duration": 40,
    "start_time": "2025-06-03T16:37:35.057Z"
   },
   {
    "duration": 24,
    "start_time": "2025-06-03T16:37:35.099Z"
   },
   {
    "duration": 10,
    "start_time": "2025-06-03T16:37:35.125Z"
   },
   {
    "duration": 6,
    "start_time": "2025-06-03T16:37:35.136Z"
   },
   {
    "duration": 9,
    "start_time": "2025-06-03T16:37:35.143Z"
   },
   {
    "duration": 128,
    "start_time": "2025-06-03T16:37:35.154Z"
   },
   {
    "duration": 20,
    "start_time": "2025-06-03T16:37:35.283Z"
   },
   {
    "duration": 36,
    "start_time": "2025-06-03T16:37:35.305Z"
   },
   {
    "duration": 296,
    "start_time": "2025-06-03T16:37:35.343Z"
   },
   {
    "duration": 3,
    "start_time": "2025-06-03T16:37:35.641Z"
   },
   {
    "duration": 169,
    "start_time": "2025-06-03T16:37:35.647Z"
   },
   {
    "duration": 152,
    "start_time": "2025-06-03T16:37:35.819Z"
   },
   {
    "duration": 80377,
    "start_time": "2025-06-03T16:37:35.972Z"
   },
   {
    "duration": 3,
    "start_time": "2025-06-03T16:38:56.351Z"
   },
   {
    "duration": 83,
    "start_time": "2025-06-03T16:38:56.355Z"
   },
   {
    "duration": 5,
    "start_time": "2025-06-03T16:38:56.440Z"
   },
   {
    "duration": 991806,
    "start_time": "2025-06-03T16:38:56.447Z"
   },
   {
    "duration": 5,
    "start_time": "2025-06-03T16:55:28.255Z"
   },
   {
    "duration": 12,
    "start_time": "2025-06-03T16:55:28.261Z"
   },
   {
    "duration": 24,
    "start_time": "2025-06-03T16:55:28.275Z"
   },
   {
    "duration": 8,
    "start_time": "2025-06-03T16:55:28.301Z"
   },
   {
    "duration": 3,
    "start_time": "2025-06-03T16:55:28.311Z"
   },
   {
    "duration": 8,
    "start_time": "2025-06-03T16:55:28.316Z"
   },
   {
    "duration": 3,
    "start_time": "2025-06-03T16:56:04.071Z"
   },
   {
    "duration": 3,
    "start_time": "2025-06-03T16:56:05.517Z"
   },
   {
    "duration": 11412,
    "start_time": "2025-06-03T16:56:06.838Z"
   },
   {
    "duration": 3,
    "start_time": "2025-06-03T16:56:21.163Z"
   },
   {
    "duration": 3,
    "start_time": "2025-06-03T16:56:23.794Z"
   },
   {
    "duration": 3,
    "start_time": "2025-06-03T16:56:24.950Z"
   },
   {
    "duration": 42022,
    "start_time": "2025-06-03T16:56:26.324Z"
   },
   {
    "duration": 9,
    "start_time": "2025-06-03T16:57:21.392Z"
   },
   {
    "duration": 4,
    "start_time": "2025-06-03T16:58:20.443Z"
   },
   {
    "duration": 3,
    "start_time": "2025-06-03T16:58:23.499Z"
   },
   {
    "duration": 25709,
    "start_time": "2025-06-03T16:58:25.432Z"
   },
   {
    "duration": 905232,
    "start_time": "2025-06-03T17:28:56.308Z"
   },
   {
    "duration": 5,
    "start_time": "2025-06-03T17:44:01.542Z"
   },
   {
    "duration": 10,
    "start_time": "2025-06-03T17:44:01.548Z"
   },
   {
    "duration": 9,
    "start_time": "2025-06-03T17:44:01.560Z"
   },
   {
    "duration": 34,
    "start_time": "2025-06-03T17:44:01.570Z"
   },
   {
    "duration": 10059,
    "start_time": "2025-06-04T07:43:13.171Z"
   },
   {
    "duration": 1722,
    "start_time": "2025-06-04T07:43:33.989Z"
   },
   {
    "duration": 54,
    "start_time": "2025-06-04T07:43:36.246Z"
   },
   {
    "duration": 20,
    "start_time": "2025-06-04T07:43:37.848Z"
   },
   {
    "duration": 5,
    "start_time": "2025-06-04T07:43:41.736Z"
   },
   {
    "duration": 5875,
    "start_time": "2025-06-04T07:44:01.517Z"
   },
   {
    "duration": 1406,
    "start_time": "2025-06-04T07:44:07.395Z"
   },
   {
    "duration": 54,
    "start_time": "2025-06-04T07:44:08.803Z"
   },
   {
    "duration": 19,
    "start_time": "2025-06-04T07:44:08.860Z"
   },
   {
    "duration": 4,
    "start_time": "2025-06-04T07:44:08.882Z"
   },
   {
    "duration": 10,
    "start_time": "2025-06-04T07:44:08.887Z"
   },
   {
    "duration": 17,
    "start_time": "2025-06-04T07:44:08.899Z"
   },
   {
    "duration": 94,
    "start_time": "2025-06-04T07:44:08.918Z"
   },
   {
    "duration": 10,
    "start_time": "2025-06-04T07:44:09.013Z"
   },
   {
    "duration": 506,
    "start_time": "2025-06-04T07:44:09.027Z"
   },
   {
    "duration": 7,
    "start_time": "2025-06-04T07:44:09.535Z"
   },
   {
    "duration": 303,
    "start_time": "2025-06-04T07:44:09.544Z"
   },
   {
    "duration": 139,
    "start_time": "2025-06-04T07:44:09.849Z"
   },
   {
    "duration": 0,
    "start_time": "2025-06-04T07:44:09.990Z"
   },
   {
    "duration": 0,
    "start_time": "2025-06-04T07:44:09.992Z"
   },
   {
    "duration": 0,
    "start_time": "2025-06-04T07:44:09.993Z"
   },
   {
    "duration": 0,
    "start_time": "2025-06-04T07:44:09.995Z"
   },
   {
    "duration": 0,
    "start_time": "2025-06-04T07:44:09.996Z"
   },
   {
    "duration": 0,
    "start_time": "2025-06-04T07:44:09.997Z"
   },
   {
    "duration": 0,
    "start_time": "2025-06-04T07:44:09.999Z"
   },
   {
    "duration": 0,
    "start_time": "2025-06-04T07:44:10.000Z"
   },
   {
    "duration": 0,
    "start_time": "2025-06-04T07:44:10.002Z"
   },
   {
    "duration": 0,
    "start_time": "2025-06-04T07:44:10.003Z"
   },
   {
    "duration": 0,
    "start_time": "2025-06-04T07:44:10.004Z"
   },
   {
    "duration": 0,
    "start_time": "2025-06-04T07:44:10.005Z"
   },
   {
    "duration": 0,
    "start_time": "2025-06-04T07:44:10.006Z"
   },
   {
    "duration": 0,
    "start_time": "2025-06-04T07:44:10.007Z"
   },
   {
    "duration": 0,
    "start_time": "2025-06-04T07:44:10.008Z"
   },
   {
    "duration": 0,
    "start_time": "2025-06-04T07:44:10.010Z"
   },
   {
    "duration": 0,
    "start_time": "2025-06-04T07:44:10.011Z"
   },
   {
    "duration": 0,
    "start_time": "2025-06-04T07:44:10.012Z"
   },
   {
    "duration": 0,
    "start_time": "2025-06-04T07:44:10.013Z"
   },
   {
    "duration": 0,
    "start_time": "2025-06-04T07:44:10.015Z"
   },
   {
    "duration": 0,
    "start_time": "2025-06-04T07:44:10.016Z"
   },
   {
    "duration": 0,
    "start_time": "2025-06-04T07:44:10.017Z"
   },
   {
    "duration": 0,
    "start_time": "2025-06-04T07:44:10.018Z"
   },
   {
    "duration": 0,
    "start_time": "2025-06-04T07:44:10.061Z"
   },
   {
    "duration": 0,
    "start_time": "2025-06-04T07:44:10.062Z"
   },
   {
    "duration": 0,
    "start_time": "2025-06-04T07:44:10.064Z"
   },
   {
    "duration": 347,
    "start_time": "2025-06-04T07:56:42.432Z"
   },
   {
    "duration": 357,
    "start_time": "2025-06-04T07:57:55.619Z"
   },
   {
    "duration": 271,
    "start_time": "2025-06-04T07:58:13.249Z"
   },
   {
    "duration": 247,
    "start_time": "2025-06-04T07:58:22.175Z"
   },
   {
    "duration": 239,
    "start_time": "2025-06-04T07:59:06.533Z"
   },
   {
    "duration": 215,
    "start_time": "2025-06-04T07:59:23.466Z"
   },
   {
    "duration": 223,
    "start_time": "2025-06-04T07:59:29.921Z"
   },
   {
    "duration": 251,
    "start_time": "2025-06-04T07:59:39.465Z"
   },
   {
    "duration": 217,
    "start_time": "2025-06-04T08:02:37.578Z"
   },
   {
    "duration": 349,
    "start_time": "2025-06-04T08:02:46.346Z"
   },
   {
    "duration": 210,
    "start_time": "2025-06-04T08:02:51.406Z"
   },
   {
    "duration": 217,
    "start_time": "2025-06-04T08:03:03.990Z"
   },
   {
    "duration": 229,
    "start_time": "2025-06-04T08:03:06.940Z"
   },
   {
    "duration": 192,
    "start_time": "2025-06-04T08:04:49.584Z"
   },
   {
    "duration": 220,
    "start_time": "2025-06-04T08:04:55.257Z"
   },
   {
    "duration": 209,
    "start_time": "2025-06-04T08:05:04.763Z"
   },
   {
    "duration": 242,
    "start_time": "2025-06-04T08:07:04.759Z"
   },
   {
    "duration": 215,
    "start_time": "2025-06-04T08:07:11.748Z"
   },
   {
    "duration": 212,
    "start_time": "2025-06-04T08:07:19.727Z"
   },
   {
    "duration": 212,
    "start_time": "2025-06-04T08:07:57.385Z"
   },
   {
    "duration": 207,
    "start_time": "2025-06-04T08:08:38.698Z"
   },
   {
    "duration": 207,
    "start_time": "2025-06-04T08:09:05.973Z"
   },
   {
    "duration": 318,
    "start_time": "2025-06-04T08:15:44.502Z"
   },
   {
    "duration": 217,
    "start_time": "2025-06-04T08:15:49.250Z"
   },
   {
    "duration": 344,
    "start_time": "2025-06-04T08:16:40.257Z"
   },
   {
    "duration": 202,
    "start_time": "2025-06-04T08:16:54.321Z"
   },
   {
    "duration": 10,
    "start_time": "2025-06-04T08:22:30.656Z"
   },
   {
    "duration": 257,
    "start_time": "2025-06-04T08:23:03.117Z"
   },
   {
    "duration": 289,
    "start_time": "2025-06-04T08:23:23.175Z"
   },
   {
    "duration": 209,
    "start_time": "2025-06-04T08:23:44.645Z"
   },
   {
    "duration": 284,
    "start_time": "2025-06-04T08:26:56.905Z"
   },
   {
    "duration": 274,
    "start_time": "2025-06-04T08:27:19.353Z"
   },
   {
    "duration": 232,
    "start_time": "2025-06-04T08:27:42.046Z"
   },
   {
    "duration": 275,
    "start_time": "2025-06-04T08:27:57.251Z"
   },
   {
    "duration": 4,
    "start_time": "2025-06-04T08:45:09.169Z"
   },
   {
    "duration": 22,
    "start_time": "2025-06-04T08:47:34.692Z"
   },
   {
    "duration": 7,
    "start_time": "2025-06-04T08:47:42.841Z"
   },
   {
    "duration": 137,
    "start_time": "2025-06-04T08:47:47.914Z"
   },
   {
    "duration": 9,
    "start_time": "2025-06-04T08:48:20.594Z"
   },
   {
    "duration": 5,
    "start_time": "2025-06-04T08:48:29.808Z"
   },
   {
    "duration": 3,
    "start_time": "2025-06-04T08:48:33.089Z"
   },
   {
    "duration": 6,
    "start_time": "2025-06-04T08:48:35.706Z"
   },
   {
    "duration": 6,
    "start_time": "2025-06-04T08:48:39.610Z"
   },
   {
    "duration": 9,
    "start_time": "2025-06-04T08:55:28.968Z"
   },
   {
    "duration": 9,
    "start_time": "2025-06-04T09:03:20.711Z"
   },
   {
    "duration": 13,
    "start_time": "2025-06-04T09:04:39.113Z"
   },
   {
    "duration": 12,
    "start_time": "2025-06-04T09:04:42.539Z"
   },
   {
    "duration": 4,
    "start_time": "2025-06-04T09:04:52.404Z"
   },
   {
    "duration": 3,
    "start_time": "2025-06-04T09:08:32.939Z"
   },
   {
    "duration": 11,
    "start_time": "2025-06-04T09:13:26.324Z"
   },
   {
    "duration": 3,
    "start_time": "2025-06-04T09:13:33.266Z"
   },
   {
    "duration": 4,
    "start_time": "2025-06-04T09:13:35.141Z"
   },
   {
    "duration": 12,
    "start_time": "2025-06-04T09:13:40.241Z"
   },
   {
    "duration": 2,
    "start_time": "2025-06-04T09:13:44.040Z"
   },
   {
    "duration": 3,
    "start_time": "2025-06-04T09:13:46.218Z"
   },
   {
    "duration": 3,
    "start_time": "2025-06-04T09:15:26.886Z"
   },
   {
    "duration": 10,
    "start_time": "2025-06-04T09:20:06.353Z"
   },
   {
    "duration": 6,
    "start_time": "2025-06-04T09:21:00.679Z"
   },
   {
    "duration": 12,
    "start_time": "2025-06-04T09:21:19.049Z"
   },
   {
    "duration": 2,
    "start_time": "2025-06-04T09:21:32.500Z"
   },
   {
    "duration": 11,
    "start_time": "2025-06-04T09:28:35.975Z"
   },
   {
    "duration": 5,
    "start_time": "2025-06-04T09:32:56.198Z"
   },
   {
    "duration": 1487,
    "start_time": "2025-06-04T09:37:48.276Z"
   },
   {
    "duration": 4,
    "start_time": "2025-06-04T09:38:30.935Z"
   },
   {
    "duration": 4,
    "start_time": "2025-06-04T09:38:56.353Z"
   },
   {
    "duration": 6,
    "start_time": "2025-06-04T09:39:04.179Z"
   },
   {
    "duration": 14,
    "start_time": "2025-06-04T09:41:03.079Z"
   },
   {
    "duration": 12,
    "start_time": "2025-06-04T09:41:10.732Z"
   },
   {
    "duration": 14,
    "start_time": "2025-06-04T09:41:36.607Z"
   },
   {
    "duration": 12,
    "start_time": "2025-06-04T09:41:43.285Z"
   },
   {
    "duration": 3,
    "start_time": "2025-06-04T09:41:58.776Z"
   },
   {
    "duration": 877,
    "start_time": "2025-06-04T09:42:01.489Z"
   },
   {
    "duration": 18,
    "start_time": "2025-06-04T09:42:22.738Z"
   },
   {
    "duration": 15,
    "start_time": "2025-06-04T09:42:40.661Z"
   },
   {
    "duration": 913,
    "start_time": "2025-06-04T09:42:45.249Z"
   },
   {
    "duration": 819,
    "start_time": "2025-06-04T09:42:55.542Z"
   },
   {
    "duration": 17,
    "start_time": "2025-06-04T09:44:06.141Z"
   },
   {
    "duration": 3,
    "start_time": "2025-06-04T09:45:22.164Z"
   },
   {
    "duration": 1273,
    "start_time": "2025-06-04T09:45:52.296Z"
   },
   {
    "duration": 5,
    "start_time": "2025-06-04T09:47:07.582Z"
   },
   {
    "duration": 20,
    "start_time": "2025-06-04T09:47:24.770Z"
   },
   {
    "duration": 1245,
    "start_time": "2025-06-04T09:49:52.123Z"
   },
   {
    "duration": 18,
    "start_time": "2025-06-04T09:49:57.842Z"
   },
   {
    "duration": 4,
    "start_time": "2025-06-04T09:50:48.111Z"
   },
   {
    "duration": 1338,
    "start_time": "2025-06-04T09:51:16.227Z"
   },
   {
    "duration": 3,
    "start_time": "2025-06-04T09:52:30.453Z"
   },
   {
    "duration": 818,
    "start_time": "2025-06-04T09:52:44.747Z"
   },
   {
    "duration": 15,
    "start_time": "2025-06-04T09:53:00.401Z"
   },
   {
    "duration": 1333,
    "start_time": "2025-06-04T09:58:31.933Z"
   },
   {
    "duration": 172,
    "start_time": "2025-06-04T09:59:04.409Z"
   },
   {
    "duration": 17,
    "start_time": "2025-06-04T09:59:21.839Z"
   },
   {
    "duration": 2,
    "start_time": "2025-06-04T10:01:29.861Z"
   },
   {
    "duration": 4,
    "start_time": "2025-06-04T10:08:07.082Z"
   },
   {
    "duration": 3,
    "start_time": "2025-06-04T10:08:08.459Z"
   },
   {
    "duration": 3,
    "start_time": "2025-06-04T10:08:10.198Z"
   },
   {
    "duration": 35615,
    "start_time": "2025-06-04T10:08:15.557Z"
   },
   {
    "duration": 3,
    "start_time": "2025-06-04T10:10:25.234Z"
   },
   {
    "duration": 3,
    "start_time": "2025-06-04T10:10:27.068Z"
   },
   {
    "duration": 20861,
    "start_time": "2025-06-04T10:10:30.772Z"
   },
   {
    "duration": 4,
    "start_time": "2025-06-04T10:11:29.152Z"
   },
   {
    "duration": 3,
    "start_time": "2025-06-04T10:11:32.094Z"
   },
   {
    "duration": 66423,
    "start_time": "2025-06-04T10:11:34.150Z"
   },
   {
    "duration": 4,
    "start_time": "2025-06-04T10:13:59.882Z"
   },
   {
    "duration": 3,
    "start_time": "2025-06-04T10:14:00.780Z"
   },
   {
    "duration": 4,
    "start_time": "2025-06-04T10:14:01.807Z"
   },
   {
    "duration": 132793,
    "start_time": "2025-06-04T10:14:03.972Z"
   },
   {
    "duration": 8,
    "start_time": "2025-06-04T10:18:38.957Z"
   },
   {
    "duration": 21,
    "start_time": "2025-06-04T10:18:59.494Z"
   },
   {
    "duration": 28,
    "start_time": "2025-06-04T10:19:37.658Z"
   },
   {
    "duration": 3,
    "start_time": "2025-06-04T10:22:08.806Z"
   },
   {
    "duration": 3,
    "start_time": "2025-06-04T10:22:17.544Z"
   },
   {
    "duration": 4,
    "start_time": "2025-06-04T10:22:41.991Z"
   },
   {
    "duration": 1540692,
    "start_time": "2025-06-04T10:22:46.932Z"
   },
   {
    "duration": 0,
    "start_time": "2025-06-04T10:48:27.628Z"
   },
   {
    "duration": 3,
    "start_time": "2025-06-04T10:48:29.716Z"
   },
   {
    "duration": 3,
    "start_time": "2025-06-04T10:48:32.665Z"
   },
   {
    "duration": 66524,
    "start_time": "2025-06-04T10:48:37.858Z"
   },
   {
    "duration": 13,
    "start_time": "2025-06-04T10:51:53.105Z"
   },
   {
    "duration": 16,
    "start_time": "2025-06-04T10:52:09.007Z"
   },
   {
    "duration": 7420,
    "start_time": "2025-06-04T11:02:20.780Z"
   },
   {
    "duration": 1396,
    "start_time": "2025-06-04T11:02:28.203Z"
   },
   {
    "duration": 53,
    "start_time": "2025-06-04T11:02:29.601Z"
   },
   {
    "duration": 23,
    "start_time": "2025-06-04T11:02:29.656Z"
   },
   {
    "duration": 3,
    "start_time": "2025-06-04T11:02:29.681Z"
   },
   {
    "duration": 17,
    "start_time": "2025-06-04T11:02:29.686Z"
   },
   {
    "duration": 15,
    "start_time": "2025-06-04T11:02:29.705Z"
   },
   {
    "duration": 91,
    "start_time": "2025-06-04T11:02:29.722Z"
   },
   {
    "duration": 7,
    "start_time": "2025-06-04T11:02:29.815Z"
   },
   {
    "duration": 518,
    "start_time": "2025-06-04T11:02:29.825Z"
   },
   {
    "duration": 21,
    "start_time": "2025-06-04T11:02:30.345Z"
   },
   {
    "duration": 326,
    "start_time": "2025-06-04T11:02:30.368Z"
   },
   {
    "duration": 229,
    "start_time": "2025-06-04T11:02:30.696Z"
   },
   {
    "duration": 10,
    "start_time": "2025-06-04T11:02:30.927Z"
   },
   {
    "duration": 315,
    "start_time": "2025-06-04T11:02:30.939Z"
   },
   {
    "duration": 6,
    "start_time": "2025-06-04T11:02:31.260Z"
   },
   {
    "duration": 109,
    "start_time": "2025-06-04T11:02:31.268Z"
   },
   {
    "duration": 9,
    "start_time": "2025-06-04T11:02:31.379Z"
   },
   {
    "duration": 34,
    "start_time": "2025-06-04T11:02:31.389Z"
   },
   {
    "duration": 10,
    "start_time": "2025-06-04T11:02:31.424Z"
   },
   {
    "duration": 25,
    "start_time": "2025-06-04T11:02:31.436Z"
   },
   {
    "duration": 17,
    "start_time": "2025-06-04T11:02:31.464Z"
   },
   {
    "duration": 14,
    "start_time": "2025-06-04T11:02:31.483Z"
   },
   {
    "duration": 12,
    "start_time": "2025-06-04T11:02:31.499Z"
   },
   {
    "duration": 36,
    "start_time": "2025-06-04T11:02:31.513Z"
   },
   {
    "duration": 7,
    "start_time": "2025-06-04T11:02:31.552Z"
   },
   {
    "duration": 46,
    "start_time": "2025-06-04T11:02:31.561Z"
   },
   {
    "duration": 3,
    "start_time": "2025-06-04T11:02:31.612Z"
   },
   {
    "duration": 17,
    "start_time": "2025-06-04T11:02:31.616Z"
   },
   {
    "duration": 11,
    "start_time": "2025-06-04T11:02:31.635Z"
   },
   {
    "duration": 30,
    "start_time": "2025-06-04T11:02:31.648Z"
   },
   {
    "duration": 14,
    "start_time": "2025-06-04T11:02:31.681Z"
   },
   {
    "duration": 24,
    "start_time": "2025-06-04T11:02:31.697Z"
   },
   {
    "duration": 2151,
    "start_time": "2025-06-04T11:02:31.723Z"
   },
   {
    "duration": 86,
    "start_time": "2025-06-04T11:02:33.876Z"
   },
   {
    "duration": 97,
    "start_time": "2025-06-04T11:02:33.965Z"
   },
   {
    "duration": 23,
    "start_time": "2025-06-04T11:02:34.065Z"
   },
   {
    "duration": 18,
    "start_time": "2025-06-04T11:02:34.090Z"
   },
   {
    "duration": 175952,
    "start_time": "2025-06-04T11:02:34.109Z"
   },
   {
    "duration": 0,
    "start_time": "2025-06-04T11:05:30.063Z"
   },
   {
    "duration": 0,
    "start_time": "2025-06-04T11:05:30.065Z"
   },
   {
    "duration": 0,
    "start_time": "2025-06-04T11:05:30.067Z"
   },
   {
    "duration": 0,
    "start_time": "2025-06-04T11:05:30.068Z"
   },
   {
    "duration": 0,
    "start_time": "2025-06-04T11:05:30.069Z"
   },
   {
    "duration": 4,
    "start_time": "2025-06-04T11:05:38.015Z"
   },
   {
    "duration": 3,
    "start_time": "2025-06-04T11:05:39.379Z"
   },
   {
    "duration": 3,
    "start_time": "2025-06-04T11:05:40.307Z"
   },
   {
    "duration": 81769,
    "start_time": "2025-06-04T11:05:42.097Z"
   },
   {
    "duration": 3,
    "start_time": "2025-06-04T11:07:16.242Z"
   },
   {
    "duration": 84314,
    "start_time": "2025-06-04T11:07:18.560Z"
   },
   {
    "duration": 3,
    "start_time": "2025-06-04T11:08:48.275Z"
   },
   {
    "duration": 3,
    "start_time": "2025-06-04T11:08:50.249Z"
   },
   {
    "duration": 3,
    "start_time": "2025-06-04T11:08:52.298Z"
   },
   {
    "duration": 60212,
    "start_time": "2025-06-04T11:08:54.109Z"
   }
  ],
  "kernelspec": {
   "display_name": "Python 3 (ipykernel)",
   "language": "python",
   "name": "python3"
  },
  "language_info": {
   "codemirror_mode": {
    "name": "ipython",
    "version": 3
   },
   "file_extension": ".py",
   "mimetype": "text/x-python",
   "name": "python",
   "nbconvert_exporter": "python",
   "pygments_lexer": "ipython3",
   "version": "3.12.7"
  },
  "toc": {
   "base_numbering": 1,
   "nav_menu": {},
   "number_sections": true,
   "sideBar": true,
   "skip_h1_title": true,
   "title_cell": "Содержание",
   "title_sidebar": "Contents",
   "toc_cell": true,
   "toc_position": {
    "height": "calc(100% - 180px)",
    "left": "10px",
    "top": "150px",
    "width": "223.188px"
   },
   "toc_section_display": true,
   "toc_window_display": true
  }
 },
 "nbformat": 4,
 "nbformat_minor": 4
}
